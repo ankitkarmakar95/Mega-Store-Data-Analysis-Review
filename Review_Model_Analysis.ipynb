{
  "cells": [
    {
      "cell_type": "markdown",
      "metadata": {
        "id": "view-in-github",
        "colab_type": "text"
      },
      "source": [
        "<a href=\"https://colab.research.google.com/github/ankitkarmakar95/Mega-Store-Data-Analysis-Review/blob/main/Review_Model_Analysis.ipynb\" target=\"_parent\"><img src=\"https://colab.research.google.com/assets/colab-badge.svg\" alt=\"Open In Colab\"/></a>"
      ]
    },
    {
      "cell_type": "markdown",
      "id": "a4be6292",
      "metadata": {
        "id": "a4be6292"
      },
      "source": [
        "# Annual sales data of a popular supermarket is to be analysed here"
      ]
    },
    {
      "cell_type": "markdown",
      "id": "c471b97b",
      "metadata": {
        "id": "c471b97b"
      },
      "source": [
        "Objective of the analysis:\n",
        "\n",
        "1. Getting Insights to make data-driven business decisions. \n",
        "2. Usage of Machine learning to build predictive models.\n",
        "3. Usage of Evaluation metrics to evaluate the performance of the model\n"
      ]
    },
    {
      "cell_type": "markdown",
      "id": "556461e6",
      "metadata": {
        "id": "556461e6"
      },
      "source": [
        "The store is known as 'MegaHut'"
      ]
    },
    {
      "cell_type": "markdown",
      "source": [
        "## Libraries imported"
      ],
      "metadata": {
        "id": "1C9diu1dWrIU"
      },
      "id": "1C9diu1dWrIU"
    },
    {
      "cell_type": "code",
      "execution_count": null,
      "id": "b8b69e38",
      "metadata": {
        "id": "b8b69e38"
      },
      "outputs": [],
      "source": [
        "import numpy as np\n",
        "import matplotlib.pyplot as plt\n",
        "import seaborn as sns"
      ]
    },
    {
      "cell_type": "code",
      "execution_count": null,
      "id": "545f66fa",
      "metadata": {
        "id": "545f66fa"
      },
      "outputs": [],
      "source": [
        "from sklearn.model_selection import train_test_split\n",
        "from sklearn.linear_model import LinearRegression\n",
        "from sklearn.preprocessing import LabelEncoder"
      ]
    },
    {
      "cell_type": "code",
      "execution_count": null,
      "id": "583aa8ea",
      "metadata": {
        "id": "583aa8ea"
      },
      "outputs": [],
      "source": [
        "from sklearn.preprocessing import StandardScaler"
      ]
    },
    {
      "cell_type": "code",
      "execution_count": null,
      "id": "58ad5b4d",
      "metadata": {
        "id": "58ad5b4d"
      },
      "outputs": [],
      "source": [
        "from sklearn.metrics import mean_squared_error\n",
        "from statsmodels.stats.outliers_influence import variance_inflation_factor"
      ]
    },
    {
      "cell_type": "code",
      "execution_count": null,
      "id": "17b2bb46",
      "metadata": {
        "id": "17b2bb46"
      },
      "outputs": [],
      "source": [
        "import pandas as pd"
      ]
    },
    {
      "cell_type": "code",
      "source": [
        "from google.colab import drive\n",
        "drive.mount('/content/drive')"
      ],
      "metadata": {
        "colab": {
          "base_uri": "https://localhost:8080/"
        },
        "id": "BwaejSfY6cLx",
        "outputId": "03310b69-7255-46ab-d013-74ff23983445"
      },
      "id": "BwaejSfY6cLx",
      "execution_count": null,
      "outputs": [
        {
          "output_type": "stream",
          "name": "stdout",
          "text": [
            "Drive already mounted at /content/drive; to attempt to forcibly remount, call drive.mount(\"/content/drive\", force_remount=True).\n"
          ]
        }
      ]
    },
    {
      "cell_type": "markdown",
      "source": [
        "## Importing Data and basic description"
      ],
      "metadata": {
        "id": "qGoehigzW6Pm"
      },
      "id": "qGoehigzW6Pm"
    },
    {
      "cell_type": "code",
      "execution_count": null,
      "id": "129775bc",
      "metadata": {
        "id": "129775bc"
      },
      "outputs": [],
      "source": [
        "mega=pd.read_csv('/content/drive/MyDrive/Colab Notebooks/MegaStore.csv')"
      ]
    },
    {
      "cell_type": "code",
      "execution_count": null,
      "id": "46354951",
      "metadata": {
        "colab": {
          "base_uri": "https://localhost:8080/",
          "height": 386
        },
        "id": "46354951",
        "outputId": "c3252ff8-b025-480a-ee71-0cc4eaf634e5"
      },
      "outputs": [
        {
          "output_type": "execute_result",
          "data": {
            "text/plain": [
              "    Item               Itemtype  Weight FatContent  Visibility       MRP  \\\n",
              "0  FDU28           Frozen Foods   19.20    Regular    0.094450  187.8214   \n",
              "1  FDY07  Fruits and Vegetables   11.80    Low Fat    0.000000   45.5402   \n",
              "2  FDA03                  Dairy   18.50    Regular    0.045464  144.1102   \n",
              "3  FDX32  Fruits and Vegetables   15.10    Regular    0.100014  145.4786   \n",
              "4  FDS46            Snack Foods   17.60    Regular    0.047257  119.6782   \n",
              "5  FDF32  Fruits and Vegetables   16.35    Low Fat    0.068024  196.4426   \n",
              "\n",
              "    Outlet  OutletEstablishmentYear OutletSize OutletCity         OutletType  \\\n",
              "0  OUT_017                     2007        NaN     Tier 2  Supermarket Type1   \n",
              "1  OUT_049                     1999     Medium     Tier 1  Supermarket Type1   \n",
              "2  OUT_046                     1997      Small     Tier 1  Supermarket Type1   \n",
              "3  OUT_049                     1999     Medium     Tier 1  Supermarket Type1   \n",
              "4  OUT_046                     1997      Small     Tier 1  Supermarket Type1   \n",
              "5  OUT_013                     1987       High     Tier 3  Supermarket Type1   \n",
              "\n",
              "       Sales  \n",
              "0  4710.5350  \n",
              "1  1516.0266  \n",
              "2  2187.1530  \n",
              "3  1589.2646  \n",
              "4  2145.2076  \n",
              "5  1977.4260  "
            ],
            "text/html": [
              "\n",
              "  <div id=\"df-3d46bb39-2584-4718-b3cc-9c8d098a5cf2\">\n",
              "    <div class=\"colab-df-container\">\n",
              "      <div>\n",
              "<style scoped>\n",
              "    .dataframe tbody tr th:only-of-type {\n",
              "        vertical-align: middle;\n",
              "    }\n",
              "\n",
              "    .dataframe tbody tr th {\n",
              "        vertical-align: top;\n",
              "    }\n",
              "\n",
              "    .dataframe thead th {\n",
              "        text-align: right;\n",
              "    }\n",
              "</style>\n",
              "<table border=\"1\" class=\"dataframe\">\n",
              "  <thead>\n",
              "    <tr style=\"text-align: right;\">\n",
              "      <th></th>\n",
              "      <th>Item</th>\n",
              "      <th>Itemtype</th>\n",
              "      <th>Weight</th>\n",
              "      <th>FatContent</th>\n",
              "      <th>Visibility</th>\n",
              "      <th>MRP</th>\n",
              "      <th>Outlet</th>\n",
              "      <th>OutletEstablishmentYear</th>\n",
              "      <th>OutletSize</th>\n",
              "      <th>OutletCity</th>\n",
              "      <th>OutletType</th>\n",
              "      <th>Sales</th>\n",
              "    </tr>\n",
              "  </thead>\n",
              "  <tbody>\n",
              "    <tr>\n",
              "      <th>0</th>\n",
              "      <td>FDU28</td>\n",
              "      <td>Frozen Foods</td>\n",
              "      <td>19.20</td>\n",
              "      <td>Regular</td>\n",
              "      <td>0.094450</td>\n",
              "      <td>187.8214</td>\n",
              "      <td>OUT_017</td>\n",
              "      <td>2007</td>\n",
              "      <td>NaN</td>\n",
              "      <td>Tier 2</td>\n",
              "      <td>Supermarket Type1</td>\n",
              "      <td>4710.5350</td>\n",
              "    </tr>\n",
              "    <tr>\n",
              "      <th>1</th>\n",
              "      <td>FDY07</td>\n",
              "      <td>Fruits and Vegetables</td>\n",
              "      <td>11.80</td>\n",
              "      <td>Low Fat</td>\n",
              "      <td>0.000000</td>\n",
              "      <td>45.5402</td>\n",
              "      <td>OUT_049</td>\n",
              "      <td>1999</td>\n",
              "      <td>Medium</td>\n",
              "      <td>Tier 1</td>\n",
              "      <td>Supermarket Type1</td>\n",
              "      <td>1516.0266</td>\n",
              "    </tr>\n",
              "    <tr>\n",
              "      <th>2</th>\n",
              "      <td>FDA03</td>\n",
              "      <td>Dairy</td>\n",
              "      <td>18.50</td>\n",
              "      <td>Regular</td>\n",
              "      <td>0.045464</td>\n",
              "      <td>144.1102</td>\n",
              "      <td>OUT_046</td>\n",
              "      <td>1997</td>\n",
              "      <td>Small</td>\n",
              "      <td>Tier 1</td>\n",
              "      <td>Supermarket Type1</td>\n",
              "      <td>2187.1530</td>\n",
              "    </tr>\n",
              "    <tr>\n",
              "      <th>3</th>\n",
              "      <td>FDX32</td>\n",
              "      <td>Fruits and Vegetables</td>\n",
              "      <td>15.10</td>\n",
              "      <td>Regular</td>\n",
              "      <td>0.100014</td>\n",
              "      <td>145.4786</td>\n",
              "      <td>OUT_049</td>\n",
              "      <td>1999</td>\n",
              "      <td>Medium</td>\n",
              "      <td>Tier 1</td>\n",
              "      <td>Supermarket Type1</td>\n",
              "      <td>1589.2646</td>\n",
              "    </tr>\n",
              "    <tr>\n",
              "      <th>4</th>\n",
              "      <td>FDS46</td>\n",
              "      <td>Snack Foods</td>\n",
              "      <td>17.60</td>\n",
              "      <td>Regular</td>\n",
              "      <td>0.047257</td>\n",
              "      <td>119.6782</td>\n",
              "      <td>OUT_046</td>\n",
              "      <td>1997</td>\n",
              "      <td>Small</td>\n",
              "      <td>Tier 1</td>\n",
              "      <td>Supermarket Type1</td>\n",
              "      <td>2145.2076</td>\n",
              "    </tr>\n",
              "    <tr>\n",
              "      <th>5</th>\n",
              "      <td>FDF32</td>\n",
              "      <td>Fruits and Vegetables</td>\n",
              "      <td>16.35</td>\n",
              "      <td>Low Fat</td>\n",
              "      <td>0.068024</td>\n",
              "      <td>196.4426</td>\n",
              "      <td>OUT_013</td>\n",
              "      <td>1987</td>\n",
              "      <td>High</td>\n",
              "      <td>Tier 3</td>\n",
              "      <td>Supermarket Type1</td>\n",
              "      <td>1977.4260</td>\n",
              "    </tr>\n",
              "  </tbody>\n",
              "</table>\n",
              "</div>\n",
              "      <button class=\"colab-df-convert\" onclick=\"convertToInteractive('df-3d46bb39-2584-4718-b3cc-9c8d098a5cf2')\"\n",
              "              title=\"Convert this dataframe to an interactive table.\"\n",
              "              style=\"display:none;\">\n",
              "        \n",
              "  <svg xmlns=\"http://www.w3.org/2000/svg\" height=\"24px\"viewBox=\"0 0 24 24\"\n",
              "       width=\"24px\">\n",
              "    <path d=\"M0 0h24v24H0V0z\" fill=\"none\"/>\n",
              "    <path d=\"M18.56 5.44l.94 2.06.94-2.06 2.06-.94-2.06-.94-.94-2.06-.94 2.06-2.06.94zm-11 1L8.5 8.5l.94-2.06 2.06-.94-2.06-.94L8.5 2.5l-.94 2.06-2.06.94zm10 10l.94 2.06.94-2.06 2.06-.94-2.06-.94-.94-2.06-.94 2.06-2.06.94z\"/><path d=\"M17.41 7.96l-1.37-1.37c-.4-.4-.92-.59-1.43-.59-.52 0-1.04.2-1.43.59L10.3 9.45l-7.72 7.72c-.78.78-.78 2.05 0 2.83L4 21.41c.39.39.9.59 1.41.59.51 0 1.02-.2 1.41-.59l7.78-7.78 2.81-2.81c.8-.78.8-2.07 0-2.86zM5.41 20L4 18.59l7.72-7.72 1.47 1.35L5.41 20z\"/>\n",
              "  </svg>\n",
              "      </button>\n",
              "      \n",
              "  <style>\n",
              "    .colab-df-container {\n",
              "      display:flex;\n",
              "      flex-wrap:wrap;\n",
              "      gap: 12px;\n",
              "    }\n",
              "\n",
              "    .colab-df-convert {\n",
              "      background-color: #E8F0FE;\n",
              "      border: none;\n",
              "      border-radius: 50%;\n",
              "      cursor: pointer;\n",
              "      display: none;\n",
              "      fill: #1967D2;\n",
              "      height: 32px;\n",
              "      padding: 0 0 0 0;\n",
              "      width: 32px;\n",
              "    }\n",
              "\n",
              "    .colab-df-convert:hover {\n",
              "      background-color: #E2EBFA;\n",
              "      box-shadow: 0px 1px 2px rgba(60, 64, 67, 0.3), 0px 1px 3px 1px rgba(60, 64, 67, 0.15);\n",
              "      fill: #174EA6;\n",
              "    }\n",
              "\n",
              "    [theme=dark] .colab-df-convert {\n",
              "      background-color: #3B4455;\n",
              "      fill: #D2E3FC;\n",
              "    }\n",
              "\n",
              "    [theme=dark] .colab-df-convert:hover {\n",
              "      background-color: #434B5C;\n",
              "      box-shadow: 0px 1px 3px 1px rgba(0, 0, 0, 0.15);\n",
              "      filter: drop-shadow(0px 1px 2px rgba(0, 0, 0, 0.3));\n",
              "      fill: #FFFFFF;\n",
              "    }\n",
              "  </style>\n",
              "\n",
              "      <script>\n",
              "        const buttonEl =\n",
              "          document.querySelector('#df-3d46bb39-2584-4718-b3cc-9c8d098a5cf2 button.colab-df-convert');\n",
              "        buttonEl.style.display =\n",
              "          google.colab.kernel.accessAllowed ? 'block' : 'none';\n",
              "\n",
              "        async function convertToInteractive(key) {\n",
              "          const element = document.querySelector('#df-3d46bb39-2584-4718-b3cc-9c8d098a5cf2');\n",
              "          const dataTable =\n",
              "            await google.colab.kernel.invokeFunction('convertToInteractive',\n",
              "                                                     [key], {});\n",
              "          if (!dataTable) return;\n",
              "\n",
              "          const docLinkHtml = 'Like what you see? Visit the ' +\n",
              "            '<a target=\"_blank\" href=https://colab.research.google.com/notebooks/data_table.ipynb>data table notebook</a>'\n",
              "            + ' to learn more about interactive tables.';\n",
              "          element.innerHTML = '';\n",
              "          dataTable['output_type'] = 'display_data';\n",
              "          await google.colab.output.renderOutput(dataTable, element);\n",
              "          const docLink = document.createElement('div');\n",
              "          docLink.innerHTML = docLinkHtml;\n",
              "          element.appendChild(docLink);\n",
              "        }\n",
              "      </script>\n",
              "    </div>\n",
              "  </div>\n",
              "  "
            ]
          },
          "metadata": {},
          "execution_count": 498
        }
      ],
      "source": [
        "mega.head(6)"
      ]
    },
    {
      "cell_type": "code",
      "execution_count": null,
      "id": "23b26a45",
      "metadata": {
        "colab": {
          "base_uri": "https://localhost:8080/"
        },
        "id": "23b26a45",
        "outputId": "457e1191-bbb5-434d-f237-12e3f6548368"
      },
      "outputs": [
        {
          "output_type": "stream",
          "name": "stdout",
          "text": [
            "<class 'pandas.core.frame.DataFrame'>\n",
            "RangeIndex: 8523 entries, 0 to 8522\n",
            "Data columns (total 12 columns):\n",
            " #   Column                   Non-Null Count  Dtype  \n",
            "---  ------                   --------------  -----  \n",
            " 0   Item                     8523 non-null   object \n",
            " 1   Itemtype                 8523 non-null   object \n",
            " 2   Weight                   7060 non-null   float64\n",
            " 3   FatContent               8523 non-null   object \n",
            " 4   Visibility               8523 non-null   float64\n",
            " 5   MRP                      8523 non-null   float64\n",
            " 6   Outlet                   8523 non-null   object \n",
            " 7   OutletEstablishmentYear  8523 non-null   int64  \n",
            " 8   OutletSize               6113 non-null   object \n",
            " 9   OutletCity               8523 non-null   object \n",
            " 10  OutletType               8523 non-null   object \n",
            " 11  Sales                    8523 non-null   float64\n",
            "dtypes: float64(4), int64(1), object(7)\n",
            "memory usage: 799.2+ KB\n"
          ]
        }
      ],
      "source": [
        "mega.info()"
      ]
    },
    {
      "cell_type": "raw",
      "id": "36fb00a9",
      "metadata": {
        "id": "36fb00a9"
      },
      "source": [
        "Descriptions of the dataset columns:\n",
        "\n",
        " 0   Item                     Item code name \n",
        " 1   Itemtype                 Type of item \n",
        " 2   Weight                   Weight of the item\n",
        " 3   FatContent               Fat content [low or regular] \n",
        " 4   Visibility               Percentage area allocated to the item in the store for display.\n",
        " 5   MRP                      Maximum Retail Price\n",
        " 6   Outlet                   Unique Store ID\n",
        " 7   OutletEstablishmentYear  Year in which store was established\n",
        " 8   OutletSize               Store categorized into 3 categories based on the ground area covered.\n",
        " 9   OutletCity               City type categorized into 3 types\n",
        " 10  OutletType               Categorizes the outlet as a grocery store or some sort of supermarket\n",
        " 11  Sales                    Sales in items in that outlet"
      ]
    },
    {
      "cell_type": "code",
      "execution_count": null,
      "id": "1356a87b",
      "metadata": {
        "colab": {
          "base_uri": "https://localhost:8080/"
        },
        "id": "1356a87b",
        "outputId": "20f4d659-0e70-4465-aebc-f8323fa55e98"
      },
      "outputs": [
        {
          "output_type": "execute_result",
          "data": {
            "text/plain": [
              "(8523, 12)"
            ]
          },
          "metadata": {},
          "execution_count": 500
        }
      ],
      "source": [
        "mega.shape"
      ]
    },
    {
      "cell_type": "code",
      "execution_count": null,
      "id": "b37fbb08",
      "metadata": {
        "colab": {
          "base_uri": "https://localhost:8080/",
          "height": 300
        },
        "id": "b37fbb08",
        "outputId": "7a10d930-fce8-4847-d60a-de0d67ddb264"
      },
      "outputs": [
        {
          "output_type": "execute_result",
          "data": {
            "text/plain": [
              "            Weight   Visibility          MRP  OutletEstablishmentYear  \\\n",
              "count  7060.000000  8523.000000  8523.000000              8523.000000   \n",
              "mean     12.857645     0.066132   140.992782              1997.831867   \n",
              "std       4.643456     0.051598    62.275067                 8.371760   \n",
              "min       4.555000     0.000000    31.290000              1985.000000   \n",
              "25%       8.773750     0.026989    93.826500              1987.000000   \n",
              "50%      12.600000     0.053931   143.012800              1999.000000   \n",
              "75%      16.850000     0.094585   185.643700              2004.000000   \n",
              "max      21.350000     0.328391   266.888400              2009.000000   \n",
              "\n",
              "              Sales  \n",
              "count   8523.000000  \n",
              "mean    2181.288914  \n",
              "std     1706.499616  \n",
              "min       33.290000  \n",
              "25%      834.247400  \n",
              "50%     1794.331000  \n",
              "75%     3101.296400  \n",
              "max    13086.964800  "
            ],
            "text/html": [
              "\n",
              "  <div id=\"df-67e2e4fd-164e-46cf-9bb6-cc08eb88e97a\">\n",
              "    <div class=\"colab-df-container\">\n",
              "      <div>\n",
              "<style scoped>\n",
              "    .dataframe tbody tr th:only-of-type {\n",
              "        vertical-align: middle;\n",
              "    }\n",
              "\n",
              "    .dataframe tbody tr th {\n",
              "        vertical-align: top;\n",
              "    }\n",
              "\n",
              "    .dataframe thead th {\n",
              "        text-align: right;\n",
              "    }\n",
              "</style>\n",
              "<table border=\"1\" class=\"dataframe\">\n",
              "  <thead>\n",
              "    <tr style=\"text-align: right;\">\n",
              "      <th></th>\n",
              "      <th>Weight</th>\n",
              "      <th>Visibility</th>\n",
              "      <th>MRP</th>\n",
              "      <th>OutletEstablishmentYear</th>\n",
              "      <th>Sales</th>\n",
              "    </tr>\n",
              "  </thead>\n",
              "  <tbody>\n",
              "    <tr>\n",
              "      <th>count</th>\n",
              "      <td>7060.000000</td>\n",
              "      <td>8523.000000</td>\n",
              "      <td>8523.000000</td>\n",
              "      <td>8523.000000</td>\n",
              "      <td>8523.000000</td>\n",
              "    </tr>\n",
              "    <tr>\n",
              "      <th>mean</th>\n",
              "      <td>12.857645</td>\n",
              "      <td>0.066132</td>\n",
              "      <td>140.992782</td>\n",
              "      <td>1997.831867</td>\n",
              "      <td>2181.288914</td>\n",
              "    </tr>\n",
              "    <tr>\n",
              "      <th>std</th>\n",
              "      <td>4.643456</td>\n",
              "      <td>0.051598</td>\n",
              "      <td>62.275067</td>\n",
              "      <td>8.371760</td>\n",
              "      <td>1706.499616</td>\n",
              "    </tr>\n",
              "    <tr>\n",
              "      <th>min</th>\n",
              "      <td>4.555000</td>\n",
              "      <td>0.000000</td>\n",
              "      <td>31.290000</td>\n",
              "      <td>1985.000000</td>\n",
              "      <td>33.290000</td>\n",
              "    </tr>\n",
              "    <tr>\n",
              "      <th>25%</th>\n",
              "      <td>8.773750</td>\n",
              "      <td>0.026989</td>\n",
              "      <td>93.826500</td>\n",
              "      <td>1987.000000</td>\n",
              "      <td>834.247400</td>\n",
              "    </tr>\n",
              "    <tr>\n",
              "      <th>50%</th>\n",
              "      <td>12.600000</td>\n",
              "      <td>0.053931</td>\n",
              "      <td>143.012800</td>\n",
              "      <td>1999.000000</td>\n",
              "      <td>1794.331000</td>\n",
              "    </tr>\n",
              "    <tr>\n",
              "      <th>75%</th>\n",
              "      <td>16.850000</td>\n",
              "      <td>0.094585</td>\n",
              "      <td>185.643700</td>\n",
              "      <td>2004.000000</td>\n",
              "      <td>3101.296400</td>\n",
              "    </tr>\n",
              "    <tr>\n",
              "      <th>max</th>\n",
              "      <td>21.350000</td>\n",
              "      <td>0.328391</td>\n",
              "      <td>266.888400</td>\n",
              "      <td>2009.000000</td>\n",
              "      <td>13086.964800</td>\n",
              "    </tr>\n",
              "  </tbody>\n",
              "</table>\n",
              "</div>\n",
              "      <button class=\"colab-df-convert\" onclick=\"convertToInteractive('df-67e2e4fd-164e-46cf-9bb6-cc08eb88e97a')\"\n",
              "              title=\"Convert this dataframe to an interactive table.\"\n",
              "              style=\"display:none;\">\n",
              "        \n",
              "  <svg xmlns=\"http://www.w3.org/2000/svg\" height=\"24px\"viewBox=\"0 0 24 24\"\n",
              "       width=\"24px\">\n",
              "    <path d=\"M0 0h24v24H0V0z\" fill=\"none\"/>\n",
              "    <path d=\"M18.56 5.44l.94 2.06.94-2.06 2.06-.94-2.06-.94-.94-2.06-.94 2.06-2.06.94zm-11 1L8.5 8.5l.94-2.06 2.06-.94-2.06-.94L8.5 2.5l-.94 2.06-2.06.94zm10 10l.94 2.06.94-2.06 2.06-.94-2.06-.94-.94-2.06-.94 2.06-2.06.94z\"/><path d=\"M17.41 7.96l-1.37-1.37c-.4-.4-.92-.59-1.43-.59-.52 0-1.04.2-1.43.59L10.3 9.45l-7.72 7.72c-.78.78-.78 2.05 0 2.83L4 21.41c.39.39.9.59 1.41.59.51 0 1.02-.2 1.41-.59l7.78-7.78 2.81-2.81c.8-.78.8-2.07 0-2.86zM5.41 20L4 18.59l7.72-7.72 1.47 1.35L5.41 20z\"/>\n",
              "  </svg>\n",
              "      </button>\n",
              "      \n",
              "  <style>\n",
              "    .colab-df-container {\n",
              "      display:flex;\n",
              "      flex-wrap:wrap;\n",
              "      gap: 12px;\n",
              "    }\n",
              "\n",
              "    .colab-df-convert {\n",
              "      background-color: #E8F0FE;\n",
              "      border: none;\n",
              "      border-radius: 50%;\n",
              "      cursor: pointer;\n",
              "      display: none;\n",
              "      fill: #1967D2;\n",
              "      height: 32px;\n",
              "      padding: 0 0 0 0;\n",
              "      width: 32px;\n",
              "    }\n",
              "\n",
              "    .colab-df-convert:hover {\n",
              "      background-color: #E2EBFA;\n",
              "      box-shadow: 0px 1px 2px rgba(60, 64, 67, 0.3), 0px 1px 3px 1px rgba(60, 64, 67, 0.15);\n",
              "      fill: #174EA6;\n",
              "    }\n",
              "\n",
              "    [theme=dark] .colab-df-convert {\n",
              "      background-color: #3B4455;\n",
              "      fill: #D2E3FC;\n",
              "    }\n",
              "\n",
              "    [theme=dark] .colab-df-convert:hover {\n",
              "      background-color: #434B5C;\n",
              "      box-shadow: 0px 1px 3px 1px rgba(0, 0, 0, 0.15);\n",
              "      filter: drop-shadow(0px 1px 2px rgba(0, 0, 0, 0.3));\n",
              "      fill: #FFFFFF;\n",
              "    }\n",
              "  </style>\n",
              "\n",
              "      <script>\n",
              "        const buttonEl =\n",
              "          document.querySelector('#df-67e2e4fd-164e-46cf-9bb6-cc08eb88e97a button.colab-df-convert');\n",
              "        buttonEl.style.display =\n",
              "          google.colab.kernel.accessAllowed ? 'block' : 'none';\n",
              "\n",
              "        async function convertToInteractive(key) {\n",
              "          const element = document.querySelector('#df-67e2e4fd-164e-46cf-9bb6-cc08eb88e97a');\n",
              "          const dataTable =\n",
              "            await google.colab.kernel.invokeFunction('convertToInteractive',\n",
              "                                                     [key], {});\n",
              "          if (!dataTable) return;\n",
              "\n",
              "          const docLinkHtml = 'Like what you see? Visit the ' +\n",
              "            '<a target=\"_blank\" href=https://colab.research.google.com/notebooks/data_table.ipynb>data table notebook</a>'\n",
              "            + ' to learn more about interactive tables.';\n",
              "          element.innerHTML = '';\n",
              "          dataTable['output_type'] = 'display_data';\n",
              "          await google.colab.output.renderOutput(dataTable, element);\n",
              "          const docLink = document.createElement('div');\n",
              "          docLink.innerHTML = docLinkHtml;\n",
              "          element.appendChild(docLink);\n",
              "        }\n",
              "      </script>\n",
              "    </div>\n",
              "  </div>\n",
              "  "
            ]
          },
          "metadata": {},
          "execution_count": 501
        }
      ],
      "source": [
        "\n",
        "mega.describe()"
      ]
    },
    {
      "cell_type": "markdown",
      "id": "951c18ab",
      "metadata": {
        "id": "951c18ab"
      },
      "source": [
        "## Data cleansing & EDA"
      ]
    },
    {
      "cell_type": "code",
      "execution_count": null,
      "id": "f7eb3ddd",
      "metadata": {
        "colab": {
          "base_uri": "https://localhost:8080/"
        },
        "id": "f7eb3ddd",
        "outputId": "68ddc1a6-1def-4fd7-c417-0b1a382438ae"
      },
      "outputs": [
        {
          "output_type": "execute_result",
          "data": {
            "text/plain": [
              "<matplotlib.axes._subplots.AxesSubplot at 0x7fb2fa490a90>"
            ]
          },
          "metadata": {},
          "execution_count": 502
        },
        {
          "output_type": "display_data",
          "data": {
            "text/plain": [
              "<Figure size 432x288 with 1 Axes>"
            ],
            "image/png": "[encoded data removed]"
          },
          "metadata": {}
        }
      ],
      "source": [
        "mega[['Sales']].boxplot()"
      ]
    },
    {
      "cell_type": "code",
      "execution_count": null,
      "id": "cfecbd9b",
      "metadata": {
        "colab": {
          "base_uri": "https://localhost:8080/"
        },
        "id": "cfecbd9b",
        "outputId": "e383e20c-ce3b-4954-bcd9-e0d0911f66c1"
      },
      "outputs": [
        {
          "output_type": "execute_result",
          "data": {
            "text/plain": [
              "       Item               Itemtype  Weight FatContent  Visibility       MRP  \\\n",
              "1450  FDZ20  Fruits and Vegetables     NaN    Low Fat    0.000000  253.0356   \n",
              "4349  FDP33            Snack Foods     NaN    Low Fat    0.088840  254.2672   \n",
              "5223  FDQ19  Fruits and Vegetables     NaN    Regular    0.014296  242.6512   \n",
              "7188  NCE42              Household     NaN    Low Fat    0.010551  234.9958   \n",
              "\n",
              "       Outlet  OutletEstablishmentYear OutletSize OutletCity  \\\n",
              "1450  OUT_027                     1985     Medium     Tier 3   \n",
              "4349  OUT_027                     1985     Medium     Tier 3   \n",
              "5223  OUT_027                     1985     Medium     Tier 3   \n",
              "7188  OUT_027                     1985     Medium     Tier 3   \n",
              "\n",
              "             OutletType       Sales  \n",
              "1450  Supermarket Type3  11445.1020  \n",
              "4349  Supermarket Type3  10993.6896  \n",
              "5223  Supermarket Type3  12117.5600  \n",
              "7188  Supermarket Type3  13086.9648  "
            ],
            "text/html": [
              "\n",
              "  <div id=\"df-37747532-eece-4680-8f3a-de131f7ed480\">\n",
              "    <div class=\"colab-df-container\">\n",
              "      <div>\n",
              "<style scoped>\n",
              "    .dataframe tbody tr th:only-of-type {\n",
              "        vertical-align: middle;\n",
              "    }\n",
              "\n",
              "    .dataframe tbody tr th {\n",
              "        vertical-align: top;\n",
              "    }\n",
              "\n",
              "    .dataframe thead th {\n",
              "        text-align: right;\n",
              "    }\n",
              "</style>\n",
              "<table border=\"1\" class=\"dataframe\">\n",
              "  <thead>\n",
              "    <tr style=\"text-align: right;\">\n",
              "      <th></th>\n",
              "      <th>Item</th>\n",
              "      <th>Itemtype</th>\n",
              "      <th>Weight</th>\n",
              "      <th>FatContent</th>\n",
              "      <th>Visibility</th>\n",
              "      <th>MRP</th>\n",
              "      <th>Outlet</th>\n",
              "      <th>OutletEstablishmentYear</th>\n",
              "      <th>OutletSize</th>\n",
              "      <th>OutletCity</th>\n",
              "      <th>OutletType</th>\n",
              "      <th>Sales</th>\n",
              "    </tr>\n",
              "  </thead>\n",
              "  <tbody>\n",
              "    <tr>\n",
              "      <th>1450</th>\n",
              "      <td>FDZ20</td>\n",
              "      <td>Fruits and Vegetables</td>\n",
              "      <td>NaN</td>\n",
              "      <td>Low Fat</td>\n",
              "      <td>0.000000</td>\n",
              "      <td>253.0356</td>\n",
              "      <td>OUT_027</td>\n",
              "      <td>1985</td>\n",
              "      <td>Medium</td>\n",
              "      <td>Tier 3</td>\n",
              "      <td>Supermarket Type3</td>\n",
              "      <td>11445.1020</td>\n",
              "    </tr>\n",
              "    <tr>\n",
              "      <th>4349</th>\n",
              "      <td>FDP33</td>\n",
              "      <td>Snack Foods</td>\n",
              "      <td>NaN</td>\n",
              "      <td>Low Fat</td>\n",
              "      <td>0.088840</td>\n",
              "      <td>254.2672</td>\n",
              "      <td>OUT_027</td>\n",
              "      <td>1985</td>\n",
              "      <td>Medium</td>\n",
              "      <td>Tier 3</td>\n",
              "      <td>Supermarket Type3</td>\n",
              "      <td>10993.6896</td>\n",
              "    </tr>\n",
              "    <tr>\n",
              "      <th>5223</th>\n",
              "      <td>FDQ19</td>\n",
              "      <td>Fruits and Vegetables</td>\n",
              "      <td>NaN</td>\n",
              "      <td>Regular</td>\n",
              "      <td>0.014296</td>\n",
              "      <td>242.6512</td>\n",
              "      <td>OUT_027</td>\n",
              "      <td>1985</td>\n",
              "      <td>Medium</td>\n",
              "      <td>Tier 3</td>\n",
              "      <td>Supermarket Type3</td>\n",
              "      <td>12117.5600</td>\n",
              "    </tr>\n",
              "    <tr>\n",
              "      <th>7188</th>\n",
              "      <td>NCE42</td>\n",
              "      <td>Household</td>\n",
              "      <td>NaN</td>\n",
              "      <td>Low Fat</td>\n",
              "      <td>0.010551</td>\n",
              "      <td>234.9958</td>\n",
              "      <td>OUT_027</td>\n",
              "      <td>1985</td>\n",
              "      <td>Medium</td>\n",
              "      <td>Tier 3</td>\n",
              "      <td>Supermarket Type3</td>\n",
              "      <td>13086.9648</td>\n",
              "    </tr>\n",
              "  </tbody>\n",
              "</table>\n",
              "</div>\n",
              "      <button class=\"colab-df-convert\" onclick=\"convertToInteractive('df-37747532-eece-4680-8f3a-de131f7ed480')\"\n",
              "              title=\"Convert this dataframe to an interactive table.\"\n",
              "              style=\"display:none;\">\n",
              "        \n",
              "  <svg xmlns=\"http://www.w3.org/2000/svg\" height=\"24px\"viewBox=\"0 0 24 24\"\n",
              "       width=\"24px\">\n",
              "    <path d=\"M0 0h24v24H0V0z\" fill=\"none\"/>\n",
              "    <path d=\"M18.56 5.44l.94 2.06.94-2.06 2.06-.94-2.06-.94-.94-2.06-.94 2.06-2.06.94zm-11 1L8.5 8.5l.94-2.06 2.06-.94-2.06-.94L8.5 2.5l-.94 2.06-2.06.94zm10 10l.94 2.06.94-2.06 2.06-.94-2.06-.94-.94-2.06-.94 2.06-2.06.94z\"/><path d=\"M17.41 7.96l-1.37-1.37c-.4-.4-.92-.59-1.43-.59-.52 0-1.04.2-1.43.59L10.3 9.45l-7.72 7.72c-.78.78-.78 2.05 0 2.83L4 21.41c.39.39.9.59 1.41.59.51 0 1.02-.2 1.41-.59l7.78-7.78 2.81-2.81c.8-.78.8-2.07 0-2.86zM5.41 20L4 18.59l7.72-7.72 1.47 1.35L5.41 20z\"/>\n",
              "  </svg>\n",
              "      </button>\n",
              "      \n",
              "  <style>\n",
              "    .colab-df-container {\n",
              "      display:flex;\n",
              "      flex-wrap:wrap;\n",
              "      gap: 12px;\n",
              "    }\n",
              "\n",
              "    .colab-df-convert {\n",
              "      background-color: #E8F0FE;\n",
              "      border: none;\n",
              "      border-radius: 50%;\n",
              "      cursor: pointer;\n",
              "      display: none;\n",
              "      fill: #1967D2;\n",
              "      height: 32px;\n",
              "      padding: 0 0 0 0;\n",
              "      width: 32px;\n",
              "    }\n",
              "\n",
              "    .colab-df-convert:hover {\n",
              "      background-color: #E2EBFA;\n",
              "      box-shadow: 0px 1px 2px rgba(60, 64, 67, 0.3), 0px 1px 3px 1px rgba(60, 64, 67, 0.15);\n",
              "      fill: #174EA6;\n",
              "    }\n",
              "\n",
              "    [theme=dark] .colab-df-convert {\n",
              "      background-color: #3B4455;\n",
              "      fill: #D2E3FC;\n",
              "    }\n",
              "\n",
              "    [theme=dark] .colab-df-convert:hover {\n",
              "      background-color: #434B5C;\n",
              "      box-shadow: 0px 1px 3px 1px rgba(0, 0, 0, 0.15);\n",
              "      filter: drop-shadow(0px 1px 2px rgba(0, 0, 0, 0.3));\n",
              "      fill: #FFFFFF;\n",
              "    }\n",
              "  </style>\n",
              "\n",
              "      <script>\n",
              "        const buttonEl =\n",
              "          document.querySelector('#df-37747532-eece-4680-8f3a-de131f7ed480 button.colab-df-convert');\n",
              "        buttonEl.style.display =\n",
              "          google.colab.kernel.accessAllowed ? 'block' : 'none';\n",
              "\n",
              "        async function convertToInteractive(key) {\n",
              "          const element = document.querySelector('#df-37747532-eece-4680-8f3a-de131f7ed480');\n",
              "          const dataTable =\n",
              "            await google.colab.kernel.invokeFunction('convertToInteractive',\n",
              "                                                     [key], {});\n",
              "          if (!dataTable) return;\n",
              "\n",
              "          const docLinkHtml = 'Like what you see? Visit the ' +\n",
              "            '<a target=\"_blank\" href=https://colab.research.google.com/notebooks/data_table.ipynb>data table notebook</a>'\n",
              "            + ' to learn more about interactive tables.';\n",
              "          element.innerHTML = '';\n",
              "          dataTable['output_type'] = 'display_data';\n",
              "          await google.colab.output.renderOutput(dataTable, element);\n",
              "          const docLink = document.createElement('div');\n",
              "          docLink.innerHTML = docLinkHtml;\n",
              "          element.appendChild(docLink);\n",
              "        }\n",
              "      </script>\n",
              "    </div>\n",
              "  </div>\n",
              "  "
            ]
          },
          "metadata": {},
          "execution_count": 503
        }
      ],
      "source": [
        "mega[mega['Sales']>10500]"
      ]
    },
    {
      "cell_type": "markdown",
      "id": "e0000bc1",
      "metadata": {
        "id": "e0000bc1"
      },
      "source": [
        "We have four clearly visible outliers, but for the timebeing, we will keep the data as it is, We can not omit these rows because these are all potent data for our model."
      ]
    },
    {
      "cell_type": "code",
      "source": [
        "mega[['Weight']].boxplot()"
      ],
      "metadata": {
        "colab": {
          "base_uri": "https://localhost:8080/"
        },
        "id": "MKzl74VXm1Yc",
        "outputId": "441d2f81-f539-4b24-a879-4a37f9b1f94b"
      },
      "id": "MKzl74VXm1Yc",
      "execution_count": null,
      "outputs": [
        {
          "output_type": "execute_result",
          "data": {
            "text/plain": [
              "<matplotlib.axes._subplots.AxesSubplot at 0x7fb2fae3aad0>"
            ]
          },
          "metadata": {},
          "execution_count": 504
        },
        {
          "output_type": "display_data",
          "data": {
            "text/plain": [
              "<Figure size 432x288 with 1 Axes>"
            ],
            "image/png": "[encoded data removed]"
          },
          "metadata": {}
        }
      ]
    },
    {
      "cell_type": "markdown",
      "source": [
        "Weight feild has no outliers"
      ],
      "metadata": {
        "id": "PI6eXwLXXsAB"
      },
      "id": "PI6eXwLXXsAB"
    },
    {
      "cell_type": "code",
      "execution_count": null,
      "id": "04e73d26",
      "metadata": {
        "colab": {
          "base_uri": "https://localhost:8080/"
        },
        "id": "04e73d26",
        "outputId": "b9443ef2-d3d1-4b16-c1a5-79060beee7a0"
      },
      "outputs": [
        {
          "output_type": "execute_result",
          "data": {
            "text/plain": [
              "Item                          0\n",
              "Itemtype                      0\n",
              "Weight                     1463\n",
              "FatContent                    0\n",
              "Visibility                    0\n",
              "MRP                           0\n",
              "Outlet                        0\n",
              "OutletEstablishmentYear       0\n",
              "OutletSize                 2410\n",
              "OutletCity                    0\n",
              "OutletType                    0\n",
              "Sales                         0\n",
              "dtype: int64"
            ]
          },
          "metadata": {},
          "execution_count": 505
        }
      ],
      "source": [
        "mega.isnull().sum()"
      ]
    },
    {
      "cell_type": "markdown",
      "id": "44aaa9ca",
      "metadata": {
        "id": "44aaa9ca"
      },
      "source": [
        "We can see weight and Outletsize have null values, As null values affect the ML model, hence let us fill up them with default values.\n",
        "\n",
        "For Weight, we will use median value\n",
        "And for Outlet size, we have to use the mode."
      ]
    },
    {
      "cell_type": "code",
      "execution_count": null,
      "id": "afae52b6",
      "metadata": {
        "id": "afae52b6"
      },
      "outputs": [],
      "source": [
        "mega.loc[mega.Weight.isnull(),'Weight']= mega.Weight.median()"
      ]
    },
    {
      "cell_type": "code",
      "execution_count": null,
      "id": "94fc6ee4",
      "metadata": {
        "colab": {
          "base_uri": "https://localhost:8080/"
        },
        "id": "94fc6ee4",
        "outputId": "914b8db0-eb5d-434a-89c5-a456a52bb394"
      },
      "outputs": [
        {
          "output_type": "execute_result",
          "data": {
            "text/plain": [
              "Empty DataFrame\n",
              "Columns: [Item, Itemtype, Weight, FatContent, Visibility, MRP, Outlet, OutletEstablishmentYear, OutletSize, OutletCity, OutletType, Sales]\n",
              "Index: []"
            ],
            "text/html": [
              "\n",
              "  <div id=\"df-74598840-8535-4d79-9ff3-09b6727f1c1f\">\n",
              "    <div class=\"colab-df-container\">\n",
              "      <div>\n",
              "<style scoped>\n",
              "    .dataframe tbody tr th:only-of-type {\n",
              "        vertical-align: middle;\n",
              "    }\n",
              "\n",
              "    .dataframe tbody tr th {\n",
              "        vertical-align: top;\n",
              "    }\n",
              "\n",
              "    .dataframe thead th {\n",
              "        text-align: right;\n",
              "    }\n",
              "</style>\n",
              "<table border=\"1\" class=\"dataframe\">\n",
              "  <thead>\n",
              "    <tr style=\"text-align: right;\">\n",
              "      <th></th>\n",
              "      <th>Item</th>\n",
              "      <th>Itemtype</th>\n",
              "      <th>Weight</th>\n",
              "      <th>FatContent</th>\n",
              "      <th>Visibility</th>\n",
              "      <th>MRP</th>\n",
              "      <th>Outlet</th>\n",
              "      <th>OutletEstablishmentYear</th>\n",
              "      <th>OutletSize</th>\n",
              "      <th>OutletCity</th>\n",
              "      <th>OutletType</th>\n",
              "      <th>Sales</th>\n",
              "    </tr>\n",
              "  </thead>\n",
              "  <tbody>\n",
              "  </tbody>\n",
              "</table>\n",
              "</div>\n",
              "      <button class=\"colab-df-convert\" onclick=\"convertToInteractive('df-74598840-8535-4d79-9ff3-09b6727f1c1f')\"\n",
              "              title=\"Convert this dataframe to an interactive table.\"\n",
              "              style=\"display:none;\">\n",
              "        \n",
              "  <svg xmlns=\"http://www.w3.org/2000/svg\" height=\"24px\"viewBox=\"0 0 24 24\"\n",
              "       width=\"24px\">\n",
              "    <path d=\"M0 0h24v24H0V0z\" fill=\"none\"/>\n",
              "    <path d=\"M18.56 5.44l.94 2.06.94-2.06 2.06-.94-2.06-.94-.94-2.06-.94 2.06-2.06.94zm-11 1L8.5 8.5l.94-2.06 2.06-.94-2.06-.94L8.5 2.5l-.94 2.06-2.06.94zm10 10l.94 2.06.94-2.06 2.06-.94-2.06-.94-.94-2.06-.94 2.06-2.06.94z\"/><path d=\"M17.41 7.96l-1.37-1.37c-.4-.4-.92-.59-1.43-.59-.52 0-1.04.2-1.43.59L10.3 9.45l-7.72 7.72c-.78.78-.78 2.05 0 2.83L4 21.41c.39.39.9.59 1.41.59.51 0 1.02-.2 1.41-.59l7.78-7.78 2.81-2.81c.8-.78.8-2.07 0-2.86zM5.41 20L4 18.59l7.72-7.72 1.47 1.35L5.41 20z\"/>\n",
              "  </svg>\n",
              "      </button>\n",
              "      \n",
              "  <style>\n",
              "    .colab-df-container {\n",
              "      display:flex;\n",
              "      flex-wrap:wrap;\n",
              "      gap: 12px;\n",
              "    }\n",
              "\n",
              "    .colab-df-convert {\n",
              "      background-color: #E8F0FE;\n",
              "      border: none;\n",
              "      border-radius: 50%;\n",
              "      cursor: pointer;\n",
              "      display: none;\n",
              "      fill: #1967D2;\n",
              "      height: 32px;\n",
              "      padding: 0 0 0 0;\n",
              "      width: 32px;\n",
              "    }\n",
              "\n",
              "    .colab-df-convert:hover {\n",
              "      background-color: #E2EBFA;\n",
              "      box-shadow: 0px 1px 2px rgba(60, 64, 67, 0.3), 0px 1px 3px 1px rgba(60, 64, 67, 0.15);\n",
              "      fill: #174EA6;\n",
              "    }\n",
              "\n",
              "    [theme=dark] .colab-df-convert {\n",
              "      background-color: #3B4455;\n",
              "      fill: #D2E3FC;\n",
              "    }\n",
              "\n",
              "    [theme=dark] .colab-df-convert:hover {\n",
              "      background-color: #434B5C;\n",
              "      box-shadow: 0px 1px 3px 1px rgba(0, 0, 0, 0.15);\n",
              "      filter: drop-shadow(0px 1px 2px rgba(0, 0, 0, 0.3));\n",
              "      fill: #FFFFFF;\n",
              "    }\n",
              "  </style>\n",
              "\n",
              "      <script>\n",
              "        const buttonEl =\n",
              "          document.querySelector('#df-74598840-8535-4d79-9ff3-09b6727f1c1f button.colab-df-convert');\n",
              "        buttonEl.style.display =\n",
              "          google.colab.kernel.accessAllowed ? 'block' : 'none';\n",
              "\n",
              "        async function convertToInteractive(key) {\n",
              "          const element = document.querySelector('#df-74598840-8535-4d79-9ff3-09b6727f1c1f');\n",
              "          const dataTable =\n",
              "            await google.colab.kernel.invokeFunction('convertToInteractive',\n",
              "                                                     [key], {});\n",
              "          if (!dataTable) return;\n",
              "\n",
              "          const docLinkHtml = 'Like what you see? Visit the ' +\n",
              "            '<a target=\"_blank\" href=https://colab.research.google.com/notebooks/data_table.ipynb>data table notebook</a>'\n",
              "            + ' to learn more about interactive tables.';\n",
              "          element.innerHTML = '';\n",
              "          dataTable['output_type'] = 'display_data';\n",
              "          await google.colab.output.renderOutput(dataTable, element);\n",
              "          const docLink = document.createElement('div');\n",
              "          docLink.innerHTML = docLinkHtml;\n",
              "          element.appendChild(docLink);\n",
              "        }\n",
              "      </script>\n",
              "    </div>\n",
              "  </div>\n",
              "  "
            ]
          },
          "metadata": {},
          "execution_count": 507
        }
      ],
      "source": [
        "mega.loc[mega.Weight.isnull()]"
      ]
    },
    {
      "cell_type": "markdown",
      "id": "c86c0273",
      "metadata": {
        "id": "c86c0273"
      },
      "source": [
        "Will do the same with outletsize"
      ]
    },
    {
      "cell_type": "code",
      "execution_count": null,
      "id": "329d2ee6",
      "metadata": {
        "id": "329d2ee6"
      },
      "outputs": [],
      "source": [
        "a=mega['OutletSize'].mode()"
      ]
    },
    {
      "cell_type": "code",
      "execution_count": null,
      "id": "0e2e0679",
      "metadata": {
        "id": "0e2e0679"
      },
      "outputs": [],
      "source": [
        "mega.loc[mega['OutletSize'].isnull(),'OutletSize']= a[0]"
      ]
    },
    {
      "cell_type": "code",
      "execution_count": null,
      "id": "14c66dd8",
      "metadata": {
        "colab": {
          "base_uri": "https://localhost:8080/"
        },
        "id": "14c66dd8",
        "outputId": "49418de5-bd2f-42c6-89c9-f13cc28ec544"
      },
      "outputs": [
        {
          "output_type": "execute_result",
          "data": {
            "text/plain": [
              "Item                       0\n",
              "Itemtype                   0\n",
              "Weight                     0\n",
              "FatContent                 0\n",
              "Visibility                 0\n",
              "MRP                        0\n",
              "Outlet                     0\n",
              "OutletEstablishmentYear    0\n",
              "OutletSize                 0\n",
              "OutletCity                 0\n",
              "OutletType                 0\n",
              "Sales                      0\n",
              "dtype: int64"
            ]
          },
          "metadata": {},
          "execution_count": 510
        }
      ],
      "source": [
        "mega.isnull().sum()"
      ]
    },
    {
      "cell_type": "code",
      "execution_count": null,
      "id": "a114e348",
      "metadata": {
        "colab": {
          "base_uri": "https://localhost:8080/"
        },
        "id": "a114e348",
        "outputId": "670b78b3-4b23-4c20-d054-1d60a3531796"
      },
      "outputs": [
        {
          "output_type": "execute_result",
          "data": {
            "text/plain": [
              "Empty DataFrame\n",
              "Columns: [Item, Itemtype, Weight, FatContent, Visibility, MRP, Outlet, OutletEstablishmentYear, OutletSize, OutletCity, OutletType, Sales]\n",
              "Index: []"
            ],
            "text/html": [
              "\n",
              "  <div id=\"df-2c1fa8b6-a33e-4e8f-b90d-b96b941ac89c\">\n",
              "    <div class=\"colab-df-container\">\n",
              "      <div>\n",
              "<style scoped>\n",
              "    .dataframe tbody tr th:only-of-type {\n",
              "        vertical-align: middle;\n",
              "    }\n",
              "\n",
              "    .dataframe tbody tr th {\n",
              "        vertical-align: top;\n",
              "    }\n",
              "\n",
              "    .dataframe thead th {\n",
              "        text-align: right;\n",
              "    }\n",
              "</style>\n",
              "<table border=\"1\" class=\"dataframe\">\n",
              "  <thead>\n",
              "    <tr style=\"text-align: right;\">\n",
              "      <th></th>\n",
              "      <th>Item</th>\n",
              "      <th>Itemtype</th>\n",
              "      <th>Weight</th>\n",
              "      <th>FatContent</th>\n",
              "      <th>Visibility</th>\n",
              "      <th>MRP</th>\n",
              "      <th>Outlet</th>\n",
              "      <th>OutletEstablishmentYear</th>\n",
              "      <th>OutletSize</th>\n",
              "      <th>OutletCity</th>\n",
              "      <th>OutletType</th>\n",
              "      <th>Sales</th>\n",
              "    </tr>\n",
              "  </thead>\n",
              "  <tbody>\n",
              "  </tbody>\n",
              "</table>\n",
              "</div>\n",
              "      <button class=\"colab-df-convert\" onclick=\"convertToInteractive('df-2c1fa8b6-a33e-4e8f-b90d-b96b941ac89c')\"\n",
              "              title=\"Convert this dataframe to an interactive table.\"\n",
              "              style=\"display:none;\">\n",
              "        \n",
              "  <svg xmlns=\"http://www.w3.org/2000/svg\" height=\"24px\"viewBox=\"0 0 24 24\"\n",
              "       width=\"24px\">\n",
              "    <path d=\"M0 0h24v24H0V0z\" fill=\"none\"/>\n",
              "    <path d=\"M18.56 5.44l.94 2.06.94-2.06 2.06-.94-2.06-.94-.94-2.06-.94 2.06-2.06.94zm-11 1L8.5 8.5l.94-2.06 2.06-.94-2.06-.94L8.5 2.5l-.94 2.06-2.06.94zm10 10l.94 2.06.94-2.06 2.06-.94-2.06-.94-.94-2.06-.94 2.06-2.06.94z\"/><path d=\"M17.41 7.96l-1.37-1.37c-.4-.4-.92-.59-1.43-.59-.52 0-1.04.2-1.43.59L10.3 9.45l-7.72 7.72c-.78.78-.78 2.05 0 2.83L4 21.41c.39.39.9.59 1.41.59.51 0 1.02-.2 1.41-.59l7.78-7.78 2.81-2.81c.8-.78.8-2.07 0-2.86zM5.41 20L4 18.59l7.72-7.72 1.47 1.35L5.41 20z\"/>\n",
              "  </svg>\n",
              "      </button>\n",
              "      \n",
              "  <style>\n",
              "    .colab-df-container {\n",
              "      display:flex;\n",
              "      flex-wrap:wrap;\n",
              "      gap: 12px;\n",
              "    }\n",
              "\n",
              "    .colab-df-convert {\n",
              "      background-color: #E8F0FE;\n",
              "      border: none;\n",
              "      border-radius: 50%;\n",
              "      cursor: pointer;\n",
              "      display: none;\n",
              "      fill: #1967D2;\n",
              "      height: 32px;\n",
              "      padding: 0 0 0 0;\n",
              "      width: 32px;\n",
              "    }\n",
              "\n",
              "    .colab-df-convert:hover {\n",
              "      background-color: #E2EBFA;\n",
              "      box-shadow: 0px 1px 2px rgba(60, 64, 67, 0.3), 0px 1px 3px 1px rgba(60, 64, 67, 0.15);\n",
              "      fill: #174EA6;\n",
              "    }\n",
              "\n",
              "    [theme=dark] .colab-df-convert {\n",
              "      background-color: #3B4455;\n",
              "      fill: #D2E3FC;\n",
              "    }\n",
              "\n",
              "    [theme=dark] .colab-df-convert:hover {\n",
              "      background-color: #434B5C;\n",
              "      box-shadow: 0px 1px 3px 1px rgba(0, 0, 0, 0.15);\n",
              "      filter: drop-shadow(0px 1px 2px rgba(0, 0, 0, 0.3));\n",
              "      fill: #FFFFFF;\n",
              "    }\n",
              "  </style>\n",
              "\n",
              "      <script>\n",
              "        const buttonEl =\n",
              "          document.querySelector('#df-2c1fa8b6-a33e-4e8f-b90d-b96b941ac89c button.colab-df-convert');\n",
              "        buttonEl.style.display =\n",
              "          google.colab.kernel.accessAllowed ? 'block' : 'none';\n",
              "\n",
              "        async function convertToInteractive(key) {\n",
              "          const element = document.querySelector('#df-2c1fa8b6-a33e-4e8f-b90d-b96b941ac89c');\n",
              "          const dataTable =\n",
              "            await google.colab.kernel.invokeFunction('convertToInteractive',\n",
              "                                                     [key], {});\n",
              "          if (!dataTable) return;\n",
              "\n",
              "          const docLinkHtml = 'Like what you see? Visit the ' +\n",
              "            '<a target=\"_blank\" href=https://colab.research.google.com/notebooks/data_table.ipynb>data table notebook</a>'\n",
              "            + ' to learn more about interactive tables.';\n",
              "          element.innerHTML = '';\n",
              "          dataTable['output_type'] = 'display_data';\n",
              "          await google.colab.output.renderOutput(dataTable, element);\n",
              "          const docLink = document.createElement('div');\n",
              "          docLink.innerHTML = docLinkHtml;\n",
              "          element.appendChild(docLink);\n",
              "        }\n",
              "      </script>\n",
              "    </div>\n",
              "  </div>\n",
              "  "
            ]
          },
          "metadata": {},
          "execution_count": 511
        }
      ],
      "source": [
        "mega[mega.duplicated()]"
      ]
    },
    {
      "cell_type": "markdown",
      "id": "67926e2a",
      "metadata": {
        "id": "67926e2a"
      },
      "source": [
        "So, we don't have any duplicate value in our data set"
      ]
    },
    {
      "cell_type": "code",
      "source": [
        "mega['FatContent'].value_counts()"
      ],
      "metadata": {
        "colab": {
          "base_uri": "https://localhost:8080/"
        },
        "id": "n4SlZ7W2nj_j",
        "outputId": "a6c5591e-1015-48e4-88dd-b17de58da536"
      },
      "id": "n4SlZ7W2nj_j",
      "execution_count": null,
      "outputs": [
        {
          "output_type": "execute_result",
          "data": {
            "text/plain": [
              "Low Fat    5089\n",
              "Regular    2889\n",
              "Low         316\n",
              "reg         117\n",
              "low fat     112\n",
              "Name: FatContent, dtype: int64"
            ]
          },
          "metadata": {},
          "execution_count": 512
        }
      ]
    },
    {
      "cell_type": "markdown",
      "source": [
        "We have different type of inputs in fatcontent column which ultimately means the same. This may cause poor efficiency of our ML model. So we need to replace \n",
        "\n",
        "Low as Low Fat\n",
        "\n",
        "reg as Regular\n",
        "\n",
        "low fat as Low Fat"
      ],
      "metadata": {
        "id": "l-MinRYwYcp2"
      },
      "id": "l-MinRYwYcp2"
    },
    {
      "cell_type": "code",
      "source": [
        "mega['FatContent'].replace(['low fat','LF','reg', 'Low'],['Low Fat','Low Fat','Regular','Low Fat'],inplace = True)\n",
        "mega['FatContent']= mega['FatContent'].astype(str)\n",
        "plt.figure(figsize=(8,5))\n",
        "sns.countplot('FatContent',data=mega,palette='ocean')"
      ],
      "metadata": {
        "colab": {
          "base_uri": "https://localhost:8080/"
        },
        "id": "Ahb6FhBFnv9E",
        "outputId": "0830771a-e833-4ffe-cd6b-0833a091191f"
      },
      "id": "Ahb6FhBFnv9E",
      "execution_count": null,
      "outputs": [
        {
          "output_type": "stream",
          "name": "stderr",
          "text": [
            "/usr/local/lib/python3.7/dist-packages/seaborn/_decorators.py:43: FutureWarning: Pass the following variable as a keyword arg: x. From version 0.12, the only valid positional argument will be `data`, and passing other arguments without an explicit keyword will result in an error or misinterpretation.\n",
            "  FutureWarning\n"
          ]
        },
        {
          "output_type": "execute_result",
          "data": {
            "text/plain": [
              "<matplotlib.axes._subplots.AxesSubplot at 0x7fb2fa716090>"
            ]
          },
          "metadata": {},
          "execution_count": 513
        },
        {
          "output_type": "display_data",
          "data": {
            "text/plain": [
              "<Figure size 576x360 with 1 Axes>"
            ],
            "image/png": "[encoded data removed]"
          },
          "metadata": {}
        }
      ]
    },
    {
      "cell_type": "markdown",
      "source": [
        "Will create another column for Item type based on the item name.\n",
        "\n",
        "If we observe the item name, the first two letter describe its type.\n",
        "\n",
        "FD - Food\n",
        "\n",
        "NC - Non-consumable\n",
        "\n",
        "DR - Drinks\n",
        "\n"
      ],
      "metadata": {
        "id": "hfInqDQuY3bD"
      },
      "id": "hfInqDQuY3bD"
    },
    {
      "cell_type": "code",
      "source": [
        "mega['Item_Type_Combined'] = mega['Item'].apply(lambda x: x[0:2])\n",
        "mega['Item_Type_Combined'] = mega['Item_Type_Combined'].map({'FD':'Food','NC':'Non-Consumable','DR':'Drinks'})"
      ],
      "metadata": {
        "id": "p6Yc_1eMoU_T"
      },
      "id": "p6Yc_1eMoU_T",
      "execution_count": null,
      "outputs": []
    },
    {
      "cell_type": "code",
      "source": [
        "mega['Item_Type_Combined'].value_counts()"
      ],
      "metadata": {
        "colab": {
          "base_uri": "https://localhost:8080/"
        },
        "id": "yb-aMIpnochE",
        "outputId": "bedf6466-7f2c-441f-86c6-e5e7065b0309"
      },
      "id": "yb-aMIpnochE",
      "execution_count": null,
      "outputs": [
        {
          "output_type": "execute_result",
          "data": {
            "text/plain": [
              "Food              6125\n",
              "Non-Consumable    1599\n",
              "Drinks             799\n",
              "Name: Item_Type_Combined, dtype: int64"
            ]
          },
          "metadata": {},
          "execution_count": 515
        }
      ]
    },
    {
      "cell_type": "markdown",
      "source": [
        "As some of the products are non-consumable, For them we need to mark the fat content as 'Non-Edible' as a non consumable product having low fat makes no sense"
      ],
      "metadata": {
        "id": "_m6UjCe-vvFM"
      },
      "id": "_m6UjCe-vvFM"
    },
    {
      "cell_type": "code",
      "source": [
        "mega.loc[mega['Item_Type_Combined']==\"Non-Consumable\",'FatContent'] = \"Non-Edible\"\n",
        "mega['FatContent'].value_counts()"
      ],
      "metadata": {
        "colab": {
          "base_uri": "https://localhost:8080/"
        },
        "id": "WYLfVXvtoeF2",
        "outputId": "f2b10d2d-59a8-4368-edef-5b6dd7c0e409"
      },
      "id": "WYLfVXvtoeF2",
      "execution_count": null,
      "outputs": [
        {
          "output_type": "execute_result",
          "data": {
            "text/plain": [
              "Low Fat       3918\n",
              "Regular       3006\n",
              "Non-Edible    1599\n",
              "Name: FatContent, dtype: int64"
            ]
          },
          "metadata": {},
          "execution_count": 516
        }
      ]
    },
    {
      "cell_type": "markdown",
      "source": [
        "Age of a store sounds more significant than establishment year. hence creating a new column for the same. "
      ],
      "metadata": {
        "id": "Lu3hM6KqZYTu"
      },
      "id": "Lu3hM6KqZYTu"
    },
    {
      "cell_type": "code",
      "execution_count": null,
      "id": "a9c03e2e",
      "metadata": {
        "id": "a9c03e2e"
      },
      "outputs": [],
      "source": [
        "#Create another column to determine the store age\n",
        "vnn= lambda a : (2022-a)\n",
        "mega['age_of_store']= mega['OutletEstablishmentYear'].apply(vnn)"
      ]
    },
    {
      "cell_type": "code",
      "execution_count": null,
      "id": "a6044e3c",
      "metadata": {
        "colab": {
          "base_uri": "https://localhost:8080/"
        },
        "id": "a6044e3c",
        "outputId": "69cbedcb-3c67-4128-b88b-e9e45d6988fb"
      },
      "outputs": [
        {
          "output_type": "execute_result",
          "data": {
            "text/plain": [
              "    Item               Itemtype  Weight FatContent  Visibility       MRP  \\\n",
              "0  FDU28           Frozen Foods    19.2    Regular    0.094450  187.8214   \n",
              "1  FDY07  Fruits and Vegetables    11.8    Low Fat    0.000000   45.5402   \n",
              "2  FDA03                  Dairy    18.5    Regular    0.045464  144.1102   \n",
              "3  FDX32  Fruits and Vegetables    15.1    Regular    0.100014  145.4786   \n",
              "\n",
              "    Outlet  OutletEstablishmentYear OutletSize OutletCity         OutletType  \\\n",
              "0  OUT_017                     2007     Medium     Tier 2  Supermarket Type1   \n",
              "1  OUT_049                     1999     Medium     Tier 1  Supermarket Type1   \n",
              "2  OUT_046                     1997      Small     Tier 1  Supermarket Type1   \n",
              "3  OUT_049                     1999     Medium     Tier 1  Supermarket Type1   \n",
              "\n",
              "       Sales Item_Type_Combined  age_of_store  \n",
              "0  4710.5350               Food            15  \n",
              "1  1516.0266               Food            23  \n",
              "2  2187.1530               Food            25  \n",
              "3  1589.2646               Food            23  "
            ],
            "text/html": [
              "\n",
              "  <div id=\"df-7714ca7c-c341-4c05-8c39-63fbce2d0a25\">\n",
              "    <div class=\"colab-df-container\">\n",
              "      <div>\n",
              "<style scoped>\n",
              "    .dataframe tbody tr th:only-of-type {\n",
              "        vertical-align: middle;\n",
              "    }\n",
              "\n",
              "    .dataframe tbody tr th {\n",
              "        vertical-align: top;\n",
              "    }\n",
              "\n",
              "    .dataframe thead th {\n",
              "        text-align: right;\n",
              "    }\n",
              "</style>\n",
              "<table border=\"1\" class=\"dataframe\">\n",
              "  <thead>\n",
              "    <tr style=\"text-align: right;\">\n",
              "      <th></th>\n",
              "      <th>Item</th>\n",
              "      <th>Itemtype</th>\n",
              "      <th>Weight</th>\n",
              "      <th>FatContent</th>\n",
              "      <th>Visibility</th>\n",
              "      <th>MRP</th>\n",
              "      <th>Outlet</th>\n",
              "      <th>OutletEstablishmentYear</th>\n",
              "      <th>OutletSize</th>\n",
              "      <th>OutletCity</th>\n",
              "      <th>OutletType</th>\n",
              "      <th>Sales</th>\n",
              "      <th>Item_Type_Combined</th>\n",
              "      <th>age_of_store</th>\n",
              "    </tr>\n",
              "  </thead>\n",
              "  <tbody>\n",
              "    <tr>\n",
              "      <th>0</th>\n",
              "      <td>FDU28</td>\n",
              "      <td>Frozen Foods</td>\n",
              "      <td>19.2</td>\n",
              "      <td>Regular</td>\n",
              "      <td>0.094450</td>\n",
              "      <td>187.8214</td>\n",
              "      <td>OUT_017</td>\n",
              "      <td>2007</td>\n",
              "      <td>Medium</td>\n",
              "      <td>Tier 2</td>\n",
              "      <td>Supermarket Type1</td>\n",
              "      <td>4710.5350</td>\n",
              "      <td>Food</td>\n",
              "      <td>15</td>\n",
              "    </tr>\n",
              "    <tr>\n",
              "      <th>1</th>\n",
              "      <td>FDY07</td>\n",
              "      <td>Fruits and Vegetables</td>\n",
              "      <td>11.8</td>\n",
              "      <td>Low Fat</td>\n",
              "      <td>0.000000</td>\n",
              "      <td>45.5402</td>\n",
              "      <td>OUT_049</td>\n",
              "      <td>1999</td>\n",
              "      <td>Medium</td>\n",
              "      <td>Tier 1</td>\n",
              "      <td>Supermarket Type1</td>\n",
              "      <td>1516.0266</td>\n",
              "      <td>Food</td>\n",
              "      <td>23</td>\n",
              "    </tr>\n",
              "    <tr>\n",
              "      <th>2</th>\n",
              "      <td>FDA03</td>\n",
              "      <td>Dairy</td>\n",
              "      <td>18.5</td>\n",
              "      <td>Regular</td>\n",
              "      <td>0.045464</td>\n",
              "      <td>144.1102</td>\n",
              "      <td>OUT_046</td>\n",
              "      <td>1997</td>\n",
              "      <td>Small</td>\n",
              "      <td>Tier 1</td>\n",
              "      <td>Supermarket Type1</td>\n",
              "      <td>2187.1530</td>\n",
              "      <td>Food</td>\n",
              "      <td>25</td>\n",
              "    </tr>\n",
              "    <tr>\n",
              "      <th>3</th>\n",
              "      <td>FDX32</td>\n",
              "      <td>Fruits and Vegetables</td>\n",
              "      <td>15.1</td>\n",
              "      <td>Regular</td>\n",
              "      <td>0.100014</td>\n",
              "      <td>145.4786</td>\n",
              "      <td>OUT_049</td>\n",
              "      <td>1999</td>\n",
              "      <td>Medium</td>\n",
              "      <td>Tier 1</td>\n",
              "      <td>Supermarket Type1</td>\n",
              "      <td>1589.2646</td>\n",
              "      <td>Food</td>\n",
              "      <td>23</td>\n",
              "    </tr>\n",
              "  </tbody>\n",
              "</table>\n",
              "</div>\n",
              "      <button class=\"colab-df-convert\" onclick=\"convertToInteractive('df-7714ca7c-c341-4c05-8c39-63fbce2d0a25')\"\n",
              "              title=\"Convert this dataframe to an interactive table.\"\n",
              "              style=\"display:none;\">\n",
              "        \n",
              "  <svg xmlns=\"http://www.w3.org/2000/svg\" height=\"24px\"viewBox=\"0 0 24 24\"\n",
              "       width=\"24px\">\n",
              "    <path d=\"M0 0h24v24H0V0z\" fill=\"none\"/>\n",
              "    <path d=\"M18.56 5.44l.94 2.06.94-2.06 2.06-.94-2.06-.94-.94-2.06-.94 2.06-2.06.94zm-11 1L8.5 8.5l.94-2.06 2.06-.94-2.06-.94L8.5 2.5l-.94 2.06-2.06.94zm10 10l.94 2.06.94-2.06 2.06-.94-2.06-.94-.94-2.06-.94 2.06-2.06.94z\"/><path d=\"M17.41 7.96l-1.37-1.37c-.4-.4-.92-.59-1.43-.59-.52 0-1.04.2-1.43.59L10.3 9.45l-7.72 7.72c-.78.78-.78 2.05 0 2.83L4 21.41c.39.39.9.59 1.41.59.51 0 1.02-.2 1.41-.59l7.78-7.78 2.81-2.81c.8-.78.8-2.07 0-2.86zM5.41 20L4 18.59l7.72-7.72 1.47 1.35L5.41 20z\"/>\n",
              "  </svg>\n",
              "      </button>\n",
              "      \n",
              "  <style>\n",
              "    .colab-df-container {\n",
              "      display:flex;\n",
              "      flex-wrap:wrap;\n",
              "      gap: 12px;\n",
              "    }\n",
              "\n",
              "    .colab-df-convert {\n",
              "      background-color: #E8F0FE;\n",
              "      border: none;\n",
              "      border-radius: 50%;\n",
              "      cursor: pointer;\n",
              "      display: none;\n",
              "      fill: #1967D2;\n",
              "      height: 32px;\n",
              "      padding: 0 0 0 0;\n",
              "      width: 32px;\n",
              "    }\n",
              "\n",
              "    .colab-df-convert:hover {\n",
              "      background-color: #E2EBFA;\n",
              "      box-shadow: 0px 1px 2px rgba(60, 64, 67, 0.3), 0px 1px 3px 1px rgba(60, 64, 67, 0.15);\n",
              "      fill: #174EA6;\n",
              "    }\n",
              "\n",
              "    [theme=dark] .colab-df-convert {\n",
              "      background-color: #3B4455;\n",
              "      fill: #D2E3FC;\n",
              "    }\n",
              "\n",
              "    [theme=dark] .colab-df-convert:hover {\n",
              "      background-color: #434B5C;\n",
              "      box-shadow: 0px 1px 3px 1px rgba(0, 0, 0, 0.15);\n",
              "      filter: drop-shadow(0px 1px 2px rgba(0, 0, 0, 0.3));\n",
              "      fill: #FFFFFF;\n",
              "    }\n",
              "  </style>\n",
              "\n",
              "      <script>\n",
              "        const buttonEl =\n",
              "          document.querySelector('#df-7714ca7c-c341-4c05-8c39-63fbce2d0a25 button.colab-df-convert');\n",
              "        buttonEl.style.display =\n",
              "          google.colab.kernel.accessAllowed ? 'block' : 'none';\n",
              "\n",
              "        async function convertToInteractive(key) {\n",
              "          const element = document.querySelector('#df-7714ca7c-c341-4c05-8c39-63fbce2d0a25');\n",
              "          const dataTable =\n",
              "            await google.colab.kernel.invokeFunction('convertToInteractive',\n",
              "                                                     [key], {});\n",
              "          if (!dataTable) return;\n",
              "\n",
              "          const docLinkHtml = 'Like what you see? Visit the ' +\n",
              "            '<a target=\"_blank\" href=https://colab.research.google.com/notebooks/data_table.ipynb>data table notebook</a>'\n",
              "            + ' to learn more about interactive tables.';\n",
              "          element.innerHTML = '';\n",
              "          dataTable['output_type'] = 'display_data';\n",
              "          await google.colab.output.renderOutput(dataTable, element);\n",
              "          const docLink = document.createElement('div');\n",
              "          docLink.innerHTML = docLinkHtml;\n",
              "          element.appendChild(docLink);\n",
              "        }\n",
              "      </script>\n",
              "    </div>\n",
              "  </div>\n",
              "  "
            ]
          },
          "metadata": {},
          "execution_count": 518
        }
      ],
      "source": [
        "mega.head(4)"
      ]
    },
    {
      "cell_type": "code",
      "execution_count": null,
      "id": "7c3fdbd0",
      "metadata": {
        "colab": {
          "base_uri": "https://localhost:8080/"
        },
        "id": "7c3fdbd0",
        "outputId": "7c189e38-2c3a-45bf-977e-857ed931dfaa"
      },
      "outputs": [
        {
          "output_type": "execute_result",
          "data": {
            "text/plain": [
              "           Weight   Visibility          MRP  OutletEstablishmentYear  \\\n",
              "count  8523.00000  8523.000000  8523.000000              8523.000000   \n",
              "mean     12.81342     0.066132   140.992782              1997.831867   \n",
              "std       4.22724     0.051598    62.275067                 8.371760   \n",
              "min       4.55500     0.000000    31.290000              1985.000000   \n",
              "25%       9.31000     0.026989    93.826500              1987.000000   \n",
              "50%      12.60000     0.053931   143.012800              1999.000000   \n",
              "75%      16.00000     0.094585   185.643700              2004.000000   \n",
              "max      21.35000     0.328391   266.888400              2009.000000   \n",
              "\n",
              "              Sales  age_of_store  \n",
              "count   8523.000000   8523.000000  \n",
              "mean    2181.288914     24.168133  \n",
              "std     1706.499616      8.371760  \n",
              "min       33.290000     13.000000  \n",
              "25%      834.247400     18.000000  \n",
              "50%     1794.331000     23.000000  \n",
              "75%     3101.296400     35.000000  \n",
              "max    13086.964800     37.000000  "
            ],
            "text/html": [
              "\n",
              "  <div id=\"df-05b3b154-c97e-4eac-be9d-c2ccf17cf949\">\n",
              "    <div class=\"colab-df-container\">\n",
              "      <div>\n",
              "<style scoped>\n",
              "    .dataframe tbody tr th:only-of-type {\n",
              "        vertical-align: middle;\n",
              "    }\n",
              "\n",
              "    .dataframe tbody tr th {\n",
              "        vertical-align: top;\n",
              "    }\n",
              "\n",
              "    .dataframe thead th {\n",
              "        text-align: right;\n",
              "    }\n",
              "</style>\n",
              "<table border=\"1\" class=\"dataframe\">\n",
              "  <thead>\n",
              "    <tr style=\"text-align: right;\">\n",
              "      <th></th>\n",
              "      <th>Weight</th>\n",
              "      <th>Visibility</th>\n",
              "      <th>MRP</th>\n",
              "      <th>OutletEstablishmentYear</th>\n",
              "      <th>Sales</th>\n",
              "      <th>age_of_store</th>\n",
              "    </tr>\n",
              "  </thead>\n",
              "  <tbody>\n",
              "    <tr>\n",
              "      <th>count</th>\n",
              "      <td>8523.00000</td>\n",
              "      <td>8523.000000</td>\n",
              "      <td>8523.000000</td>\n",
              "      <td>8523.000000</td>\n",
              "      <td>8523.000000</td>\n",
              "      <td>8523.000000</td>\n",
              "    </tr>\n",
              "    <tr>\n",
              "      <th>mean</th>\n",
              "      <td>12.81342</td>\n",
              "      <td>0.066132</td>\n",
              "      <td>140.992782</td>\n",
              "      <td>1997.831867</td>\n",
              "      <td>2181.288914</td>\n",
              "      <td>24.168133</td>\n",
              "    </tr>\n",
              "    <tr>\n",
              "      <th>std</th>\n",
              "      <td>4.22724</td>\n",
              "      <td>0.051598</td>\n",
              "      <td>62.275067</td>\n",
              "      <td>8.371760</td>\n",
              "      <td>1706.499616</td>\n",
              "      <td>8.371760</td>\n",
              "    </tr>\n",
              "    <tr>\n",
              "      <th>min</th>\n",
              "      <td>4.55500</td>\n",
              "      <td>0.000000</td>\n",
              "      <td>31.290000</td>\n",
              "      <td>1985.000000</td>\n",
              "      <td>33.290000</td>\n",
              "      <td>13.000000</td>\n",
              "    </tr>\n",
              "    <tr>\n",
              "      <th>25%</th>\n",
              "      <td>9.31000</td>\n",
              "      <td>0.026989</td>\n",
              "      <td>93.826500</td>\n",
              "      <td>1987.000000</td>\n",
              "      <td>834.247400</td>\n",
              "      <td>18.000000</td>\n",
              "    </tr>\n",
              "    <tr>\n",
              "      <th>50%</th>\n",
              "      <td>12.60000</td>\n",
              "      <td>0.053931</td>\n",
              "      <td>143.012800</td>\n",
              "      <td>1999.000000</td>\n",
              "      <td>1794.331000</td>\n",
              "      <td>23.000000</td>\n",
              "    </tr>\n",
              "    <tr>\n",
              "      <th>75%</th>\n",
              "      <td>16.00000</td>\n",
              "      <td>0.094585</td>\n",
              "      <td>185.643700</td>\n",
              "      <td>2004.000000</td>\n",
              "      <td>3101.296400</td>\n",
              "      <td>35.000000</td>\n",
              "    </tr>\n",
              "    <tr>\n",
              "      <th>max</th>\n",
              "      <td>21.35000</td>\n",
              "      <td>0.328391</td>\n",
              "      <td>266.888400</td>\n",
              "      <td>2009.000000</td>\n",
              "      <td>13086.964800</td>\n",
              "      <td>37.000000</td>\n",
              "    </tr>\n",
              "  </tbody>\n",
              "</table>\n",
              "</div>\n",
              "      <button class=\"colab-df-convert\" onclick=\"convertToInteractive('df-05b3b154-c97e-4eac-be9d-c2ccf17cf949')\"\n",
              "              title=\"Convert this dataframe to an interactive table.\"\n",
              "              style=\"display:none;\">\n",
              "        \n",
              "  <svg xmlns=\"http://www.w3.org/2000/svg\" height=\"24px\"viewBox=\"0 0 24 24\"\n",
              "       width=\"24px\">\n",
              "    <path d=\"M0 0h24v24H0V0z\" fill=\"none\"/>\n",
              "    <path d=\"M18.56 5.44l.94 2.06.94-2.06 2.06-.94-2.06-.94-.94-2.06-.94 2.06-2.06.94zm-11 1L8.5 8.5l.94-2.06 2.06-.94-2.06-.94L8.5 2.5l-.94 2.06-2.06.94zm10 10l.94 2.06.94-2.06 2.06-.94-2.06-.94-.94-2.06-.94 2.06-2.06.94z\"/><path d=\"M17.41 7.96l-1.37-1.37c-.4-.4-.92-.59-1.43-.59-.52 0-1.04.2-1.43.59L10.3 9.45l-7.72 7.72c-.78.78-.78 2.05 0 2.83L4 21.41c.39.39.9.59 1.41.59.51 0 1.02-.2 1.41-.59l7.78-7.78 2.81-2.81c.8-.78.8-2.07 0-2.86zM5.41 20L4 18.59l7.72-7.72 1.47 1.35L5.41 20z\"/>\n",
              "  </svg>\n",
              "      </button>\n",
              "      \n",
              "  <style>\n",
              "    .colab-df-container {\n",
              "      display:flex;\n",
              "      flex-wrap:wrap;\n",
              "      gap: 12px;\n",
              "    }\n",
              "\n",
              "    .colab-df-convert {\n",
              "      background-color: #E8F0FE;\n",
              "      border: none;\n",
              "      border-radius: 50%;\n",
              "      cursor: pointer;\n",
              "      display: none;\n",
              "      fill: #1967D2;\n",
              "      height: 32px;\n",
              "      padding: 0 0 0 0;\n",
              "      width: 32px;\n",
              "    }\n",
              "\n",
              "    .colab-df-convert:hover {\n",
              "      background-color: #E2EBFA;\n",
              "      box-shadow: 0px 1px 2px rgba(60, 64, 67, 0.3), 0px 1px 3px 1px rgba(60, 64, 67, 0.15);\n",
              "      fill: #174EA6;\n",
              "    }\n",
              "\n",
              "    [theme=dark] .colab-df-convert {\n",
              "      background-color: #3B4455;\n",
              "      fill: #D2E3FC;\n",
              "    }\n",
              "\n",
              "    [theme=dark] .colab-df-convert:hover {\n",
              "      background-color: #434B5C;\n",
              "      box-shadow: 0px 1px 3px 1px rgba(0, 0, 0, 0.15);\n",
              "      filter: drop-shadow(0px 1px 2px rgba(0, 0, 0, 0.3));\n",
              "      fill: #FFFFFF;\n",
              "    }\n",
              "  </style>\n",
              "\n",
              "      <script>\n",
              "        const buttonEl =\n",
              "          document.querySelector('#df-05b3b154-c97e-4eac-be9d-c2ccf17cf949 button.colab-df-convert');\n",
              "        buttonEl.style.display =\n",
              "          google.colab.kernel.accessAllowed ? 'block' : 'none';\n",
              "\n",
              "        async function convertToInteractive(key) {\n",
              "          const element = document.querySelector('#df-05b3b154-c97e-4eac-be9d-c2ccf17cf949');\n",
              "          const dataTable =\n",
              "            await google.colab.kernel.invokeFunction('convertToInteractive',\n",
              "                                                     [key], {});\n",
              "          if (!dataTable) return;\n",
              "\n",
              "          const docLinkHtml = 'Like what you see? Visit the ' +\n",
              "            '<a target=\"_blank\" href=https://colab.research.google.com/notebooks/data_table.ipynb>data table notebook</a>'\n",
              "            + ' to learn more about interactive tables.';\n",
              "          element.innerHTML = '';\n",
              "          dataTable['output_type'] = 'display_data';\n",
              "          await google.colab.output.renderOutput(dataTable, element);\n",
              "          const docLink = document.createElement('div');\n",
              "          docLink.innerHTML = docLinkHtml;\n",
              "          element.appendChild(docLink);\n",
              "        }\n",
              "      </script>\n",
              "    </div>\n",
              "  </div>\n",
              "  "
            ]
          },
          "metadata": {},
          "execution_count": 519
        }
      ],
      "source": [
        "mega.describe()"
      ]
    },
    {
      "cell_type": "markdown",
      "source": [
        "## Insights from the Data"
      ],
      "metadata": {
        "id": "8V1-Z1hCWhkB"
      },
      "id": "8V1-Z1hCWhkB"
    },
    {
      "cell_type": "markdown",
      "id": "28c9b4b5",
      "metadata": {
        "id": "28c9b4b5"
      },
      "source": [
        "Let's check, which type of item people buy from these stores\n"
      ]
    },
    {
      "cell_type": "code",
      "execution_count": null,
      "id": "044e3d31",
      "metadata": {
        "colab": {
          "base_uri": "https://localhost:8080/",
          "height": 449
        },
        "id": "044e3d31",
        "outputId": "930bf83b-6495-4c15-d4c9-48f56519c166"
      },
      "outputs": [
        {
          "output_type": "display_data",
          "data": {
            "text/plain": [
              "<Figure size 864x360 with 1 Axes>"
            ],
            "image/png": "[encoded data removed]"
          },
          "metadata": {}
        }
      ],
      "source": [
        "plt.figure(figsize=(12,5))\n",
        "sns.set(style='whitegrid')\n",
        "sns.countplot(x=\"Itemtype\", data=mega, order=mega['Itemtype'].value_counts().sort_values(ascending=False).index, palette='autumn')\n",
        "plt.xticks(rotation=90)\n",
        "plt.show()"
      ]
    },
    {
      "cell_type": "markdown",
      "source": [
        "As we can see, Stores are more likely to sell Fruits and vegitables, but seafood popularity is very less."
      ],
      "metadata": {
        "id": "voJhqtw5wwtL"
      },
      "id": "voJhqtw5wwtL"
    },
    {
      "cell_type": "markdown",
      "source": [
        "Now, for a better picture we get the view of sales data for individual item types.\n",
        "\n",
        "As a conclusion, we can see in the below plot that, though very few stores keep seefoods but the stores which keeps them are actually having a good amount of sales."
      ],
      "metadata": {
        "id": "BmZ9PkwNa82J"
      },
      "id": "BmZ9PkwNa82J"
    },
    {
      "cell_type": "code",
      "source": [
        "plt.figure(figsize=(10,8))\n",
        "sns.barplot(y='Itemtype',x='Sales',data=mega,palette='flag')"
      ],
      "metadata": {
        "colab": {
          "base_uri": "https://localhost:8080/",
          "height": 519
        },
        "id": "V1XjA9_QoMEP",
        "outputId": "fd554c0a-bbd9-4529-bea1-17ec3f2cef03"
      },
      "id": "V1XjA9_QoMEP",
      "execution_count": null,
      "outputs": [
        {
          "output_type": "execute_result",
          "data": {
            "text/plain": [
              "<matplotlib.axes._subplots.AxesSubplot at 0x7fb2f9c71e90>"
            ]
          },
          "metadata": {},
          "execution_count": 521
        },
        {
          "output_type": "display_data",
          "data": {
            "text/plain": [
              "<Figure size 720x576 with 1 Axes>"
            ],
            "image/png": "[encoded data removed]"
          },
          "metadata": {}
        }
      ]
    },
    {
      "cell_type": "markdown",
      "id": "90f510cf",
      "metadata": {
        "id": "90f510cf"
      },
      "source": [
        "Now, let's get the top outlets on the basis of their sales count"
      ]
    },
    {
      "cell_type": "code",
      "execution_count": null,
      "id": "7c6a022e",
      "metadata": {
        "colab": {
          "base_uri": "https://localhost:8080/",
          "height": 339
        },
        "id": "7c6a022e",
        "outputId": "8b5778ce-dc4a-4db2-8cb8-2d05dca41070"
      },
      "outputs": [
        {
          "output_type": "display_data",
          "data": {
            "text/plain": [
              "<Figure size 864x360 with 1 Axes>"
            ],
            "image/png": "[encoded data removed]"
          },
          "metadata": {}
        }
      ],
      "source": [
        "Outlets_sell = mega.groupby(\"Outlet\")[[\"Sales\"]].sum().sort_values(by='Sales', ascending = False)\n",
        "Outlets_sell['Outlet_Name'] = Outlets_sell.index\n",
        "plt.figure(figsize=(12,5))\n",
        "sns.set(style='whitegrid')\n",
        "sns.barplot(x='Sales',y='Outlet_Name', data=Outlets_sell, palette='winter')\n",
        "plt.show()"
      ]
    },
    {
      "cell_type": "markdown",
      "id": "a49612e1",
      "metadata": {
        "id": "a49612e1"
      },
      "source": [
        "Now we will compare the age of the top performing outlets"
      ]
    },
    {
      "cell_type": "code",
      "execution_count": null,
      "id": "335e5f7e",
      "metadata": {
        "colab": {
          "base_uri": "https://localhost:8080/",
          "height": 363
        },
        "id": "335e5f7e",
        "outputId": "38ed196f-92fc-4262-b660-9736f6651022"
      },
      "outputs": [
        {
          "output_type": "execute_result",
          "data": {
            "text/plain": [
              "    age_of_store Outlet_Name\n",
              "0             15     OUT_017\n",
              "1             23     OUT_049\n",
              "2             25     OUT_046\n",
              "5             35     OUT_013\n",
              "7             13     OUT_018\n",
              "9             37     OUT_027\n",
              "10            18     OUT_035\n",
              "14            37     OUT_019\n",
              "19            24     OUT_010\n",
              "24            20     OUT_045"
            ],
            "text/html": [
              "\n",
              "  <div id=\"df-44c86be6-8208-4f09-bc0c-e63adf91cdaf\">\n",
              "    <div class=\"colab-df-container\">\n",
              "      <div>\n",
              "<style scoped>\n",
              "    .dataframe tbody tr th:only-of-type {\n",
              "        vertical-align: middle;\n",
              "    }\n",
              "\n",
              "    .dataframe tbody tr th {\n",
              "        vertical-align: top;\n",
              "    }\n",
              "\n",
              "    .dataframe thead th {\n",
              "        text-align: right;\n",
              "    }\n",
              "</style>\n",
              "<table border=\"1\" class=\"dataframe\">\n",
              "  <thead>\n",
              "    <tr style=\"text-align: right;\">\n",
              "      <th></th>\n",
              "      <th>age_of_store</th>\n",
              "      <th>Outlet_Name</th>\n",
              "    </tr>\n",
              "  </thead>\n",
              "  <tbody>\n",
              "    <tr>\n",
              "      <th>0</th>\n",
              "      <td>15</td>\n",
              "      <td>OUT_017</td>\n",
              "    </tr>\n",
              "    <tr>\n",
              "      <th>1</th>\n",
              "      <td>23</td>\n",
              "      <td>OUT_049</td>\n",
              "    </tr>\n",
              "    <tr>\n",
              "      <th>2</th>\n",
              "      <td>25</td>\n",
              "      <td>OUT_046</td>\n",
              "    </tr>\n",
              "    <tr>\n",
              "      <th>5</th>\n",
              "      <td>35</td>\n",
              "      <td>OUT_013</td>\n",
              "    </tr>\n",
              "    <tr>\n",
              "      <th>7</th>\n",
              "      <td>13</td>\n",
              "      <td>OUT_018</td>\n",
              "    </tr>\n",
              "    <tr>\n",
              "      <th>9</th>\n",
              "      <td>37</td>\n",
              "      <td>OUT_027</td>\n",
              "    </tr>\n",
              "    <tr>\n",
              "      <th>10</th>\n",
              "      <td>18</td>\n",
              "      <td>OUT_035</td>\n",
              "    </tr>\n",
              "    <tr>\n",
              "      <th>14</th>\n",
              "      <td>37</td>\n",
              "      <td>OUT_019</td>\n",
              "    </tr>\n",
              "    <tr>\n",
              "      <th>19</th>\n",
              "      <td>24</td>\n",
              "      <td>OUT_010</td>\n",
              "    </tr>\n",
              "    <tr>\n",
              "      <th>24</th>\n",
              "      <td>20</td>\n",
              "      <td>OUT_045</td>\n",
              "    </tr>\n",
              "  </tbody>\n",
              "</table>\n",
              "</div>\n",
              "      <button class=\"colab-df-convert\" onclick=\"convertToInteractive('df-44c86be6-8208-4f09-bc0c-e63adf91cdaf')\"\n",
              "              title=\"Convert this dataframe to an interactive table.\"\n",
              "              style=\"display:none;\">\n",
              "        \n",
              "  <svg xmlns=\"http://www.w3.org/2000/svg\" height=\"24px\"viewBox=\"0 0 24 24\"\n",
              "       width=\"24px\">\n",
              "    <path d=\"M0 0h24v24H0V0z\" fill=\"none\"/>\n",
              "    <path d=\"M18.56 5.44l.94 2.06.94-2.06 2.06-.94-2.06-.94-.94-2.06-.94 2.06-2.06.94zm-11 1L8.5 8.5l.94-2.06 2.06-.94-2.06-.94L8.5 2.5l-.94 2.06-2.06.94zm10 10l.94 2.06.94-2.06 2.06-.94-2.06-.94-.94-2.06-.94 2.06-2.06.94z\"/><path d=\"M17.41 7.96l-1.37-1.37c-.4-.4-.92-.59-1.43-.59-.52 0-1.04.2-1.43.59L10.3 9.45l-7.72 7.72c-.78.78-.78 2.05 0 2.83L4 21.41c.39.39.9.59 1.41.59.51 0 1.02-.2 1.41-.59l7.78-7.78 2.81-2.81c.8-.78.8-2.07 0-2.86zM5.41 20L4 18.59l7.72-7.72 1.47 1.35L5.41 20z\"/>\n",
              "  </svg>\n",
              "      </button>\n",
              "      \n",
              "  <style>\n",
              "    .colab-df-container {\n",
              "      display:flex;\n",
              "      flex-wrap:wrap;\n",
              "      gap: 12px;\n",
              "    }\n",
              "\n",
              "    .colab-df-convert {\n",
              "      background-color: #E8F0FE;\n",
              "      border: none;\n",
              "      border-radius: 50%;\n",
              "      cursor: pointer;\n",
              "      display: none;\n",
              "      fill: #1967D2;\n",
              "      height: 32px;\n",
              "      padding: 0 0 0 0;\n",
              "      width: 32px;\n",
              "    }\n",
              "\n",
              "    .colab-df-convert:hover {\n",
              "      background-color: #E2EBFA;\n",
              "      box-shadow: 0px 1px 2px rgba(60, 64, 67, 0.3), 0px 1px 3px 1px rgba(60, 64, 67, 0.15);\n",
              "      fill: #174EA6;\n",
              "    }\n",
              "\n",
              "    [theme=dark] .colab-df-convert {\n",
              "      background-color: #3B4455;\n",
              "      fill: #D2E3FC;\n",
              "    }\n",
              "\n",
              "    [theme=dark] .colab-df-convert:hover {\n",
              "      background-color: #434B5C;\n",
              "      box-shadow: 0px 1px 3px 1px rgba(0, 0, 0, 0.15);\n",
              "      filter: drop-shadow(0px 1px 2px rgba(0, 0, 0, 0.3));\n",
              "      fill: #FFFFFF;\n",
              "    }\n",
              "  </style>\n",
              "\n",
              "      <script>\n",
              "        const buttonEl =\n",
              "          document.querySelector('#df-44c86be6-8208-4f09-bc0c-e63adf91cdaf button.colab-df-convert');\n",
              "        buttonEl.style.display =\n",
              "          google.colab.kernel.accessAllowed ? 'block' : 'none';\n",
              "\n",
              "        async function convertToInteractive(key) {\n",
              "          const element = document.querySelector('#df-44c86be6-8208-4f09-bc0c-e63adf91cdaf');\n",
              "          const dataTable =\n",
              "            await google.colab.kernel.invokeFunction('convertToInteractive',\n",
              "                                                     [key], {});\n",
              "          if (!dataTable) return;\n",
              "\n",
              "          const docLinkHtml = 'Like what you see? Visit the ' +\n",
              "            '<a target=\"_blank\" href=https://colab.research.google.com/notebooks/data_table.ipynb>data table notebook</a>'\n",
              "            + ' to learn more about interactive tables.';\n",
              "          element.innerHTML = '';\n",
              "          dataTable['output_type'] = 'display_data';\n",
              "          await google.colab.output.renderOutput(dataTable, element);\n",
              "          const docLink = document.createElement('div');\n",
              "          docLink.innerHTML = docLinkHtml;\n",
              "          element.appendChild(docLink);\n",
              "        }\n",
              "      </script>\n",
              "    </div>\n",
              "  </div>\n",
              "  "
            ]
          },
          "metadata": {},
          "execution_count": 523
        }
      ],
      "source": [
        "Outlet_age = mega[['Outlet','age_of_store']].drop_duplicates()\n",
        "Outlet_age['Outlet_Name']=Outlet_age['Outlet']\n",
        "Outlet_age.drop(columns='Outlet', inplace=True)\n",
        "Outlet_age               "
      ]
    },
    {
      "cell_type": "markdown",
      "source": [
        "Let us check the sales vs age for the outlets."
      ],
      "metadata": {
        "id": "WBpUiMm6b1jv"
      },
      "id": "WBpUiMm6b1jv"
    },
    {
      "cell_type": "code",
      "execution_count": null,
      "id": "7b6c5c9b",
      "metadata": {
        "colab": {
          "base_uri": "https://localhost:8080/",
          "height": 363
        },
        "id": "7b6c5c9b",
        "outputId": "6cc48d7c-72ed-40ea-d744-689c4fd73943"
      },
      "outputs": [
        {
          "output_type": "execute_result",
          "data": {
            "text/plain": [
              "          Sales Outlet_Name  age_of_store\n",
              "0  3.453926e+06     OUT_027            37\n",
              "1  2.268123e+06     OUT_035            18\n",
              "2  2.183970e+06     OUT_049            23\n",
              "3  2.167465e+06     OUT_017            15\n",
              "4  2.142664e+06     OUT_013            35\n",
              "5  2.118395e+06     OUT_046            25\n",
              "6  2.036725e+06     OUT_045            20\n",
              "7  1.851823e+06     OUT_018            13\n",
              "8  1.883402e+05     OUT_010            24\n",
              "9  1.796941e+05     OUT_019            37"
            ],
            "text/html": [
              "\n",
              "  <div id=\"df-9a6997d7-976a-4875-b985-357219bbf86a\">\n",
              "    <div class=\"colab-df-container\">\n",
              "      <div>\n",
              "<style scoped>\n",
              "    .dataframe tbody tr th:only-of-type {\n",
              "        vertical-align: middle;\n",
              "    }\n",
              "\n",
              "    .dataframe tbody tr th {\n",
              "        vertical-align: top;\n",
              "    }\n",
              "\n",
              "    .dataframe thead th {\n",
              "        text-align: right;\n",
              "    }\n",
              "</style>\n",
              "<table border=\"1\" class=\"dataframe\">\n",
              "  <thead>\n",
              "    <tr style=\"text-align: right;\">\n",
              "      <th></th>\n",
              "      <th>Sales</th>\n",
              "      <th>Outlet_Name</th>\n",
              "      <th>age_of_store</th>\n",
              "    </tr>\n",
              "  </thead>\n",
              "  <tbody>\n",
              "    <tr>\n",
              "      <th>0</th>\n",
              "      <td>3.453926e+06</td>\n",
              "      <td>OUT_027</td>\n",
              "      <td>37</td>\n",
              "    </tr>\n",
              "    <tr>\n",
              "      <th>1</th>\n",
              "      <td>2.268123e+06</td>\n",
              "      <td>OUT_035</td>\n",
              "      <td>18</td>\n",
              "    </tr>\n",
              "    <tr>\n",
              "      <th>2</th>\n",
              "      <td>2.183970e+06</td>\n",
              "      <td>OUT_049</td>\n",
              "      <td>23</td>\n",
              "    </tr>\n",
              "    <tr>\n",
              "      <th>3</th>\n",
              "      <td>2.167465e+06</td>\n",
              "      <td>OUT_017</td>\n",
              "      <td>15</td>\n",
              "    </tr>\n",
              "    <tr>\n",
              "      <th>4</th>\n",
              "      <td>2.142664e+06</td>\n",
              "      <td>OUT_013</td>\n",
              "      <td>35</td>\n",
              "    </tr>\n",
              "    <tr>\n",
              "      <th>5</th>\n",
              "      <td>2.118395e+06</td>\n",
              "      <td>OUT_046</td>\n",
              "      <td>25</td>\n",
              "    </tr>\n",
              "    <tr>\n",
              "      <th>6</th>\n",
              "      <td>2.036725e+06</td>\n",
              "      <td>OUT_045</td>\n",
              "      <td>20</td>\n",
              "    </tr>\n",
              "    <tr>\n",
              "      <th>7</th>\n",
              "      <td>1.851823e+06</td>\n",
              "      <td>OUT_018</td>\n",
              "      <td>13</td>\n",
              "    </tr>\n",
              "    <tr>\n",
              "      <th>8</th>\n",
              "      <td>1.883402e+05</td>\n",
              "      <td>OUT_010</td>\n",
              "      <td>24</td>\n",
              "    </tr>\n",
              "    <tr>\n",
              "      <th>9</th>\n",
              "      <td>1.796941e+05</td>\n",
              "      <td>OUT_019</td>\n",
              "      <td>37</td>\n",
              "    </tr>\n",
              "  </tbody>\n",
              "</table>\n",
              "</div>\n",
              "      <button class=\"colab-df-convert\" onclick=\"convertToInteractive('df-9a6997d7-976a-4875-b985-357219bbf86a')\"\n",
              "              title=\"Convert this dataframe to an interactive table.\"\n",
              "              style=\"display:none;\">\n",
              "        \n",
              "  <svg xmlns=\"http://www.w3.org/2000/svg\" height=\"24px\"viewBox=\"0 0 24 24\"\n",
              "       width=\"24px\">\n",
              "    <path d=\"M0 0h24v24H0V0z\" fill=\"none\"/>\n",
              "    <path d=\"M18.56 5.44l.94 2.06.94-2.06 2.06-.94-2.06-.94-.94-2.06-.94 2.06-2.06.94zm-11 1L8.5 8.5l.94-2.06 2.06-.94-2.06-.94L8.5 2.5l-.94 2.06-2.06.94zm10 10l.94 2.06.94-2.06 2.06-.94-2.06-.94-.94-2.06-.94 2.06-2.06.94z\"/><path d=\"M17.41 7.96l-1.37-1.37c-.4-.4-.92-.59-1.43-.59-.52 0-1.04.2-1.43.59L10.3 9.45l-7.72 7.72c-.78.78-.78 2.05 0 2.83L4 21.41c.39.39.9.59 1.41.59.51 0 1.02-.2 1.41-.59l7.78-7.78 2.81-2.81c.8-.78.8-2.07 0-2.86zM5.41 20L4 18.59l7.72-7.72 1.47 1.35L5.41 20z\"/>\n",
              "  </svg>\n",
              "      </button>\n",
              "      \n",
              "  <style>\n",
              "    .colab-df-container {\n",
              "      display:flex;\n",
              "      flex-wrap:wrap;\n",
              "      gap: 12px;\n",
              "    }\n",
              "\n",
              "    .colab-df-convert {\n",
              "      background-color: #E8F0FE;\n",
              "      border: none;\n",
              "      border-radius: 50%;\n",
              "      cursor: pointer;\n",
              "      display: none;\n",
              "      fill: #1967D2;\n",
              "      height: 32px;\n",
              "      padding: 0 0 0 0;\n",
              "      width: 32px;\n",
              "    }\n",
              "\n",
              "    .colab-df-convert:hover {\n",
              "      background-color: #E2EBFA;\n",
              "      box-shadow: 0px 1px 2px rgba(60, 64, 67, 0.3), 0px 1px 3px 1px rgba(60, 64, 67, 0.15);\n",
              "      fill: #174EA6;\n",
              "    }\n",
              "\n",
              "    [theme=dark] .colab-df-convert {\n",
              "      background-color: #3B4455;\n",
              "      fill: #D2E3FC;\n",
              "    }\n",
              "\n",
              "    [theme=dark] .colab-df-convert:hover {\n",
              "      background-color: #434B5C;\n",
              "      box-shadow: 0px 1px 3px 1px rgba(0, 0, 0, 0.15);\n",
              "      filter: drop-shadow(0px 1px 2px rgba(0, 0, 0, 0.3));\n",
              "      fill: #FFFFFF;\n",
              "    }\n",
              "  </style>\n",
              "\n",
              "      <script>\n",
              "        const buttonEl =\n",
              "          document.querySelector('#df-9a6997d7-976a-4875-b985-357219bbf86a button.colab-df-convert');\n",
              "        buttonEl.style.display =\n",
              "          google.colab.kernel.accessAllowed ? 'block' : 'none';\n",
              "\n",
              "        async function convertToInteractive(key) {\n",
              "          const element = document.querySelector('#df-9a6997d7-976a-4875-b985-357219bbf86a');\n",
              "          const dataTable =\n",
              "            await google.colab.kernel.invokeFunction('convertToInteractive',\n",
              "                                                     [key], {});\n",
              "          if (!dataTable) return;\n",
              "\n",
              "          const docLinkHtml = 'Like what you see? Visit the ' +\n",
              "            '<a target=\"_blank\" href=https://colab.research.google.com/notebooks/data_table.ipynb>data table notebook</a>'\n",
              "            + ' to learn more about interactive tables.';\n",
              "          element.innerHTML = '';\n",
              "          dataTable['output_type'] = 'display_data';\n",
              "          await google.colab.output.renderOutput(dataTable, element);\n",
              "          const docLink = document.createElement('div');\n",
              "          docLink.innerHTML = docLinkHtml;\n",
              "          element.appendChild(docLink);\n",
              "        }\n",
              "      </script>\n",
              "    </div>\n",
              "  </div>\n",
              "  "
            ]
          },
          "metadata": {},
          "execution_count": 524
        }
      ],
      "source": [
        "age_vs_sales = pd.merge(Outlets_sell,Outlet_age, how='left', on='Outlet_Name')\n",
        "age_vs_sales"
      ]
    },
    {
      "cell_type": "code",
      "execution_count": null,
      "id": "1a1554a9",
      "metadata": {
        "colab": {
          "base_uri": "https://localhost:8080/",
          "height": 355
        },
        "id": "1a1554a9",
        "outputId": "f500fd6c-3e6e-4ddc-cf6a-8d96798ef386"
      },
      "outputs": [
        {
          "output_type": "display_data",
          "data": {
            "text/plain": [
              "<Figure size 720x360 with 1 Axes>"
            ],
            "image/png": "[encoded data removed]"
          },
          "metadata": {}
        }
      ],
      "source": [
        "plt.figure(figsize=(10,5))\n",
        "sns.regplot(x='age_of_store',y='Sales', data=age_vs_sales, color=\"r\")\n",
        "plt.xlabel('Age of store')\n",
        "plt.ylabel('Sales')\n",
        "plt.title('Sales vs Store age')\n",
        "plt.show()"
      ]
    },
    {
      "cell_type": "markdown",
      "id": "483d26db",
      "metadata": {
        "id": "483d26db"
      },
      "source": [
        "As we can see in the graph, Age of the store does not matter while we consider total sales.\n",
        "\n",
        "But in some cases, for some type of products, customer may face trust issues in new stores practically, also many other dependencies may arrive which can alter the sales. So to build a machine learning model it is best to take multiple linear regression method.\n",
        "\n",
        "Our ultimate goal is to predict the sales."
      ]
    },
    {
      "cell_type": "code",
      "source": [
        "plt.figure(figsize=(8,5))\n",
        "sns.countplot('OutletSize',data=mega,palette='summer')"
      ],
      "metadata": {
        "colab": {
          "base_uri": "https://localhost:8080/",
          "height": 411
        },
        "id": "7y6bkjkYoI5M",
        "outputId": "b78a4bb9-1065-4a74-b092-ab87afd6fb02"
      },
      "id": "7y6bkjkYoI5M",
      "execution_count": null,
      "outputs": [
        {
          "output_type": "stream",
          "name": "stderr",
          "text": [
            "/usr/local/lib/python3.7/dist-packages/seaborn/_decorators.py:43: FutureWarning: Pass the following variable as a keyword arg: x. From version 0.12, the only valid positional argument will be `data`, and passing other arguments without an explicit keyword will result in an error or misinterpretation.\n",
            "  FutureWarning\n"
          ]
        },
        {
          "output_type": "execute_result",
          "data": {
            "text/plain": [
              "<matplotlib.axes._subplots.AxesSubplot at 0x7fb2f95b3c50>"
            ]
          },
          "metadata": {},
          "execution_count": 526
        },
        {
          "output_type": "display_data",
          "data": {
            "text/plain": [
              "<Figure size 576x360 with 1 Axes>"
            ],
            "image/png": "[encoded data removed]"
          },
          "metadata": {}
        }
      ]
    },
    {
      "cell_type": "markdown",
      "source": [
        "From the above plot we can tell that most of the business for the megastore comapny is coming from medium sized outlets."
      ],
      "metadata": {
        "id": "nogK0ro0cdg9"
      },
      "id": "nogK0ro0cdg9"
    },
    {
      "cell_type": "markdown",
      "source": [
        "##**Model Building** "
      ],
      "metadata": {
        "id": "oFDSs0PWc3ib"
      },
      "id": "oFDSs0PWc3ib"
    },
    {
      "cell_type": "code",
      "source": [
        "m=mega.select_dtypes(exclude='object')\n",
        "vif = pd.Series([variance_inflation_factor(m.values,idx) for idx in range(m.shape[1])], index=m.columns)\n",
        "print(vif)"
      ],
      "metadata": {
        "colab": {
          "base_uri": "https://localhost:8080/"
        },
        "id": "_BSmIQRoS65m",
        "outputId": "da5062ce-07f0-4f8b-8b51-caff82cda287"
      },
      "id": "_BSmIQRoS65m",
      "execution_count": null,
      "outputs": [
        {
          "output_type": "stream",
          "name": "stdout",
          "text": [
            "Weight                      1.000919\n",
            "Visibility                  1.032550\n",
            "MRP                         1.490962\n",
            "OutletEstablishmentYear    24.163235\n",
            "Sales                       1.520539\n",
            "age_of_store                9.227097\n",
            "dtype: float64\n"
          ]
        }
      ]
    },
    {
      "cell_type": "code",
      "source": [
        "m.drop(columns=['OutletEstablishmentYear','age_of_store'],inplace=True)\n",
        "vif = pd.Series([variance_inflation_factor(m.values,idx) for idx in range(m.shape[1])], index=m.columns)\n",
        "print(vif)"
      ],
      "metadata": {
        "colab": {
          "base_uri": "https://localhost:8080/"
        },
        "id": "rxTBFlpHToqF",
        "outputId": "339d4b01-5926-4758-eb6a-79b3d33ec6f0"
      },
      "id": "rxTBFlpHToqF",
      "execution_count": null,
      "outputs": [
        {
          "output_type": "stream",
          "name": "stdout",
          "text": [
            "Weight        4.746564\n",
            "Visibility    2.417203\n",
            "MRP           7.595374\n",
            "Sales         3.970986\n",
            "dtype: float64\n"
          ]
        },
        {
          "output_type": "stream",
          "name": "stderr",
          "text": [
            "/usr/local/lib/python3.7/dist-packages/pandas/core/frame.py:4913: SettingWithCopyWarning: \n",
            "A value is trying to be set on a copy of a slice from a DataFrame\n",
            "\n",
            "See the caveats in the documentation: https://pandas.pydata.org/pandas-docs/stable/user_guide/indexing.html#returning-a-view-versus-a-copy\n",
            "  errors=errors,\n"
          ]
        }
      ]
    },
    {
      "cell_type": "markdown",
      "source": [
        "From the above approach we can understand that, 'OutletEstablishmentYear','age_of_store' & 'MRP' have high value of multicolinearity. I personally think that MRP predictor is important in actual scenario. So, rest two will remove."
      ],
      "metadata": {
        "id": "blCS7z7KUEpH"
      },
      "id": "blCS7z7KUEpH"
    },
    {
      "cell_type": "code",
      "source": [
        "main = mega.drop(columns=['OutletEstablishmentYear','age_of_store'])"
      ],
      "metadata": {
        "id": "waL-TiDaVGF0"
      },
      "id": "waL-TiDaVGF0",
      "execution_count": null,
      "outputs": []
    },
    {
      "cell_type": "code",
      "source": [
        "main.head()"
      ],
      "metadata": {
        "colab": {
          "base_uri": "https://localhost:8080/",
          "height": 337
        },
        "id": "g9zaTuP-WWvU",
        "outputId": "7dc14d60-91a1-4bc5-afc3-40e4ef11d121"
      },
      "id": "g9zaTuP-WWvU",
      "execution_count": null,
      "outputs": [
        {
          "output_type": "execute_result",
          "data": {
            "text/plain": [
              "    Item               Itemtype  Weight FatContent  Visibility       MRP  \\\n",
              "0  FDU28           Frozen Foods    19.2    Regular    0.094450  187.8214   \n",
              "1  FDY07  Fruits and Vegetables    11.8    Low Fat    0.000000   45.5402   \n",
              "2  FDA03                  Dairy    18.5    Regular    0.045464  144.1102   \n",
              "3  FDX32  Fruits and Vegetables    15.1    Regular    0.100014  145.4786   \n",
              "4  FDS46            Snack Foods    17.6    Regular    0.047257  119.6782   \n",
              "\n",
              "    Outlet OutletSize OutletCity         OutletType      Sales  \\\n",
              "0  OUT_017     Medium     Tier 2  Supermarket Type1  4710.5350   \n",
              "1  OUT_049     Medium     Tier 1  Supermarket Type1  1516.0266   \n",
              "2  OUT_046      Small     Tier 1  Supermarket Type1  2187.1530   \n",
              "3  OUT_049     Medium     Tier 1  Supermarket Type1  1589.2646   \n",
              "4  OUT_046      Small     Tier 1  Supermarket Type1  2145.2076   \n",
              "\n",
              "  Item_Type_Combined  \n",
              "0               Food  \n",
              "1               Food  \n",
              "2               Food  \n",
              "3               Food  \n",
              "4               Food  "
            ],
            "text/html": [
              "\n",
              "  <div id=\"df-3dc0e513-7f93-48b3-9028-37d95a20a803\">\n",
              "    <div class=\"colab-df-container\">\n",
              "      <div>\n",
              "<style scoped>\n",
              "    .dataframe tbody tr th:only-of-type {\n",
              "        vertical-align: middle;\n",
              "    }\n",
              "\n",
              "    .dataframe tbody tr th {\n",
              "        vertical-align: top;\n",
              "    }\n",
              "\n",
              "    .dataframe thead th {\n",
              "        text-align: right;\n",
              "    }\n",
              "</style>\n",
              "<table border=\"1\" class=\"dataframe\">\n",
              "  <thead>\n",
              "    <tr style=\"text-align: right;\">\n",
              "      <th></th>\n",
              "      <th>Item</th>\n",
              "      <th>Itemtype</th>\n",
              "      <th>Weight</th>\n",
              "      <th>FatContent</th>\n",
              "      <th>Visibility</th>\n",
              "      <th>MRP</th>\n",
              "      <th>Outlet</th>\n",
              "      <th>OutletSize</th>\n",
              "      <th>OutletCity</th>\n",
              "      <th>OutletType</th>\n",
              "      <th>Sales</th>\n",
              "      <th>Item_Type_Combined</th>\n",
              "    </tr>\n",
              "  </thead>\n",
              "  <tbody>\n",
              "    <tr>\n",
              "      <th>0</th>\n",
              "      <td>FDU28</td>\n",
              "      <td>Frozen Foods</td>\n",
              "      <td>19.2</td>\n",
              "      <td>Regular</td>\n",
              "      <td>0.094450</td>\n",
              "      <td>187.8214</td>\n",
              "      <td>OUT_017</td>\n",
              "      <td>Medium</td>\n",
              "      <td>Tier 2</td>\n",
              "      <td>Supermarket Type1</td>\n",
              "      <td>4710.5350</td>\n",
              "      <td>Food</td>\n",
              "    </tr>\n",
              "    <tr>\n",
              "      <th>1</th>\n",
              "      <td>FDY07</td>\n",
              "      <td>Fruits and Vegetables</td>\n",
              "      <td>11.8</td>\n",
              "      <td>Low Fat</td>\n",
              "      <td>0.000000</td>\n",
              "      <td>45.5402</td>\n",
              "      <td>OUT_049</td>\n",
              "      <td>Medium</td>\n",
              "      <td>Tier 1</td>\n",
              "      <td>Supermarket Type1</td>\n",
              "      <td>1516.0266</td>\n",
              "      <td>Food</td>\n",
              "    </tr>\n",
              "    <tr>\n",
              "      <th>2</th>\n",
              "      <td>FDA03</td>\n",
              "      <td>Dairy</td>\n",
              "      <td>18.5</td>\n",
              "      <td>Regular</td>\n",
              "      <td>0.045464</td>\n",
              "      <td>144.1102</td>\n",
              "      <td>OUT_046</td>\n",
              "      <td>Small</td>\n",
              "      <td>Tier 1</td>\n",
              "      <td>Supermarket Type1</td>\n",
              "      <td>2187.1530</td>\n",
              "      <td>Food</td>\n",
              "    </tr>\n",
              "    <tr>\n",
              "      <th>3</th>\n",
              "      <td>FDX32</td>\n",
              "      <td>Fruits and Vegetables</td>\n",
              "      <td>15.1</td>\n",
              "      <td>Regular</td>\n",
              "      <td>0.100014</td>\n",
              "      <td>145.4786</td>\n",
              "      <td>OUT_049</td>\n",
              "      <td>Medium</td>\n",
              "      <td>Tier 1</td>\n",
              "      <td>Supermarket Type1</td>\n",
              "      <td>1589.2646</td>\n",
              "      <td>Food</td>\n",
              "    </tr>\n",
              "    <tr>\n",
              "      <th>4</th>\n",
              "      <td>FDS46</td>\n",
              "      <td>Snack Foods</td>\n",
              "      <td>17.6</td>\n",
              "      <td>Regular</td>\n",
              "      <td>0.047257</td>\n",
              "      <td>119.6782</td>\n",
              "      <td>OUT_046</td>\n",
              "      <td>Small</td>\n",
              "      <td>Tier 1</td>\n",
              "      <td>Supermarket Type1</td>\n",
              "      <td>2145.2076</td>\n",
              "      <td>Food</td>\n",
              "    </tr>\n",
              "  </tbody>\n",
              "</table>\n",
              "</div>\n",
              "      <button class=\"colab-df-convert\" onclick=\"convertToInteractive('df-3dc0e513-7f93-48b3-9028-37d95a20a803')\"\n",
              "              title=\"Convert this dataframe to an interactive table.\"\n",
              "              style=\"display:none;\">\n",
              "        \n",
              "  <svg xmlns=\"http://www.w3.org/2000/svg\" height=\"24px\"viewBox=\"0 0 24 24\"\n",
              "       width=\"24px\">\n",
              "    <path d=\"M0 0h24v24H0V0z\" fill=\"none\"/>\n",
              "    <path d=\"M18.56 5.44l.94 2.06.94-2.06 2.06-.94-2.06-.94-.94-2.06-.94 2.06-2.06.94zm-11 1L8.5 8.5l.94-2.06 2.06-.94-2.06-.94L8.5 2.5l-.94 2.06-2.06.94zm10 10l.94 2.06.94-2.06 2.06-.94-2.06-.94-.94-2.06-.94 2.06-2.06.94z\"/><path d=\"M17.41 7.96l-1.37-1.37c-.4-.4-.92-.59-1.43-.59-.52 0-1.04.2-1.43.59L10.3 9.45l-7.72 7.72c-.78.78-.78 2.05 0 2.83L4 21.41c.39.39.9.59 1.41.59.51 0 1.02-.2 1.41-.59l7.78-7.78 2.81-2.81c.8-.78.8-2.07 0-2.86zM5.41 20L4 18.59l7.72-7.72 1.47 1.35L5.41 20z\"/>\n",
              "  </svg>\n",
              "      </button>\n",
              "      \n",
              "  <style>\n",
              "    .colab-df-container {\n",
              "      display:flex;\n",
              "      flex-wrap:wrap;\n",
              "      gap: 12px;\n",
              "    }\n",
              "\n",
              "    .colab-df-convert {\n",
              "      background-color: #E8F0FE;\n",
              "      border: none;\n",
              "      border-radius: 50%;\n",
              "      cursor: pointer;\n",
              "      display: none;\n",
              "      fill: #1967D2;\n",
              "      height: 32px;\n",
              "      padding: 0 0 0 0;\n",
              "      width: 32px;\n",
              "    }\n",
              "\n",
              "    .colab-df-convert:hover {\n",
              "      background-color: #E2EBFA;\n",
              "      box-shadow: 0px 1px 2px rgba(60, 64, 67, 0.3), 0px 1px 3px 1px rgba(60, 64, 67, 0.15);\n",
              "      fill: #174EA6;\n",
              "    }\n",
              "\n",
              "    [theme=dark] .colab-df-convert {\n",
              "      background-color: #3B4455;\n",
              "      fill: #D2E3FC;\n",
              "    }\n",
              "\n",
              "    [theme=dark] .colab-df-convert:hover {\n",
              "      background-color: #434B5C;\n",
              "      box-shadow: 0px 1px 3px 1px rgba(0, 0, 0, 0.15);\n",
              "      filter: drop-shadow(0px 1px 2px rgba(0, 0, 0, 0.3));\n",
              "      fill: #FFFFFF;\n",
              "    }\n",
              "  </style>\n",
              "\n",
              "      <script>\n",
              "        const buttonEl =\n",
              "          document.querySelector('#df-3dc0e513-7f93-48b3-9028-37d95a20a803 button.colab-df-convert');\n",
              "        buttonEl.style.display =\n",
              "          google.colab.kernel.accessAllowed ? 'block' : 'none';\n",
              "\n",
              "        async function convertToInteractive(key) {\n",
              "          const element = document.querySelector('#df-3dc0e513-7f93-48b3-9028-37d95a20a803');\n",
              "          const dataTable =\n",
              "            await google.colab.kernel.invokeFunction('convertToInteractive',\n",
              "                                                     [key], {});\n",
              "          if (!dataTable) return;\n",
              "\n",
              "          const docLinkHtml = 'Like what you see? Visit the ' +\n",
              "            '<a target=\"_blank\" href=https://colab.research.google.com/notebooks/data_table.ipynb>data table notebook</a>'\n",
              "            + ' to learn more about interactive tables.';\n",
              "          element.innerHTML = '';\n",
              "          dataTable['output_type'] = 'display_data';\n",
              "          await google.colab.output.renderOutput(dataTable, element);\n",
              "          const docLink = document.createElement('div');\n",
              "          docLink.innerHTML = docLinkHtml;\n",
              "          element.appendChild(docLink);\n",
              "        }\n",
              "      </script>\n",
              "    </div>\n",
              "  </div>\n",
              "  "
            ]
          },
          "metadata": {},
          "execution_count": 530
        }
      ]
    },
    {
      "cell_type": "code",
      "source": [
        "#Lebel encoding\n",
        "#le = LabelEncoder()\n",
        "#var_mod = ['FatContent','OutletCity','OutletSize','Item_Type_Combined','OutletType','Outlet']\n",
        "#for i in var_mod:\n",
        "#    main[i] = le.fit_transform(main[i])"
      ],
      "metadata": {
        "id": "-9IbZ88Poo1m"
      },
      "id": "-9IbZ88Poo1m",
      "execution_count": null,
      "outputs": []
    },
    {
      "cell_type": "code",
      "source": [
        "#main.head()"
      ],
      "metadata": {
        "id": "SmMZo3m3Ywg6"
      },
      "id": "SmMZo3m3Ywg6",
      "execution_count": null,
      "outputs": []
    },
    {
      "cell_type": "code",
      "source": [
        "main.drop(columns=['Item',\t'Itemtype'],inplace=True)\n",
        "main.head()"
      ],
      "metadata": {
        "colab": {
          "base_uri": "https://localhost:8080/",
          "height": 206
        },
        "id": "4bupTMb0ouNK",
        "outputId": "bd3e5a37-dd7e-479f-c532-d9c7bd5c4d54"
      },
      "id": "4bupTMb0ouNK",
      "execution_count": null,
      "outputs": [
        {
          "output_type": "execute_result",
          "data": {
            "text/plain": [
              "   Weight FatContent  Visibility       MRP   Outlet OutletSize OutletCity  \\\n",
              "0    19.2    Regular    0.094450  187.8214  OUT_017     Medium     Tier 2   \n",
              "1    11.8    Low Fat    0.000000   45.5402  OUT_049     Medium     Tier 1   \n",
              "2    18.5    Regular    0.045464  144.1102  OUT_046      Small     Tier 1   \n",
              "3    15.1    Regular    0.100014  145.4786  OUT_049     Medium     Tier 1   \n",
              "4    17.6    Regular    0.047257  119.6782  OUT_046      Small     Tier 1   \n",
              "\n",
              "          OutletType      Sales Item_Type_Combined  \n",
              "0  Supermarket Type1  4710.5350               Food  \n",
              "1  Supermarket Type1  1516.0266               Food  \n",
              "2  Supermarket Type1  2187.1530               Food  \n",
              "3  Supermarket Type1  1589.2646               Food  \n",
              "4  Supermarket Type1  2145.2076               Food  "
            ],
            "text/html": [
              "\n",
              "  <div id=\"df-f16106d5-2019-48ed-903c-a42a6e3692fe\">\n",
              "    <div class=\"colab-df-container\">\n",
              "      <div>\n",
              "<style scoped>\n",
              "    .dataframe tbody tr th:only-of-type {\n",
              "        vertical-align: middle;\n",
              "    }\n",
              "\n",
              "    .dataframe tbody tr th {\n",
              "        vertical-align: top;\n",
              "    }\n",
              "\n",
              "    .dataframe thead th {\n",
              "        text-align: right;\n",
              "    }\n",
              "</style>\n",
              "<table border=\"1\" class=\"dataframe\">\n",
              "  <thead>\n",
              "    <tr style=\"text-align: right;\">\n",
              "      <th></th>\n",
              "      <th>Weight</th>\n",
              "      <th>FatContent</th>\n",
              "      <th>Visibility</th>\n",
              "      <th>MRP</th>\n",
              "      <th>Outlet</th>\n",
              "      <th>OutletSize</th>\n",
              "      <th>OutletCity</th>\n",
              "      <th>OutletType</th>\n",
              "      <th>Sales</th>\n",
              "      <th>Item_Type_Combined</th>\n",
              "    </tr>\n",
              "  </thead>\n",
              "  <tbody>\n",
              "    <tr>\n",
              "      <th>0</th>\n",
              "      <td>19.2</td>\n",
              "      <td>Regular</td>\n",
              "      <td>0.094450</td>\n",
              "      <td>187.8214</td>\n",
              "      <td>OUT_017</td>\n",
              "      <td>Medium</td>\n",
              "      <td>Tier 2</td>\n",
              "      <td>Supermarket Type1</td>\n",
              "      <td>4710.5350</td>\n",
              "      <td>Food</td>\n",
              "    </tr>\n",
              "    <tr>\n",
              "      <th>1</th>\n",
              "      <td>11.8</td>\n",
              "      <td>Low Fat</td>\n",
              "      <td>0.000000</td>\n",
              "      <td>45.5402</td>\n",
              "      <td>OUT_049</td>\n",
              "      <td>Medium</td>\n",
              "      <td>Tier 1</td>\n",
              "      <td>Supermarket Type1</td>\n",
              "      <td>1516.0266</td>\n",
              "      <td>Food</td>\n",
              "    </tr>\n",
              "    <tr>\n",
              "      <th>2</th>\n",
              "      <td>18.5</td>\n",
              "      <td>Regular</td>\n",
              "      <td>0.045464</td>\n",
              "      <td>144.1102</td>\n",
              "      <td>OUT_046</td>\n",
              "      <td>Small</td>\n",
              "      <td>Tier 1</td>\n",
              "      <td>Supermarket Type1</td>\n",
              "      <td>2187.1530</td>\n",
              "      <td>Food</td>\n",
              "    </tr>\n",
              "    <tr>\n",
              "      <th>3</th>\n",
              "      <td>15.1</td>\n",
              "      <td>Regular</td>\n",
              "      <td>0.100014</td>\n",
              "      <td>145.4786</td>\n",
              "      <td>OUT_049</td>\n",
              "      <td>Medium</td>\n",
              "      <td>Tier 1</td>\n",
              "      <td>Supermarket Type1</td>\n",
              "      <td>1589.2646</td>\n",
              "      <td>Food</td>\n",
              "    </tr>\n",
              "    <tr>\n",
              "      <th>4</th>\n",
              "      <td>17.6</td>\n",
              "      <td>Regular</td>\n",
              "      <td>0.047257</td>\n",
              "      <td>119.6782</td>\n",
              "      <td>OUT_046</td>\n",
              "      <td>Small</td>\n",
              "      <td>Tier 1</td>\n",
              "      <td>Supermarket Type1</td>\n",
              "      <td>2145.2076</td>\n",
              "      <td>Food</td>\n",
              "    </tr>\n",
              "  </tbody>\n",
              "</table>\n",
              "</div>\n",
              "      <button class=\"colab-df-convert\" onclick=\"convertToInteractive('df-f16106d5-2019-48ed-903c-a42a6e3692fe')\"\n",
              "              title=\"Convert this dataframe to an interactive table.\"\n",
              "              style=\"display:none;\">\n",
              "        \n",
              "  <svg xmlns=\"http://www.w3.org/2000/svg\" height=\"24px\"viewBox=\"0 0 24 24\"\n",
              "       width=\"24px\">\n",
              "    <path d=\"M0 0h24v24H0V0z\" fill=\"none\"/>\n",
              "    <path d=\"M18.56 5.44l.94 2.06.94-2.06 2.06-.94-2.06-.94-.94-2.06-.94 2.06-2.06.94zm-11 1L8.5 8.5l.94-2.06 2.06-.94-2.06-.94L8.5 2.5l-.94 2.06-2.06.94zm10 10l.94 2.06.94-2.06 2.06-.94-2.06-.94-.94-2.06-.94 2.06-2.06.94z\"/><path d=\"M17.41 7.96l-1.37-1.37c-.4-.4-.92-.59-1.43-.59-.52 0-1.04.2-1.43.59L10.3 9.45l-7.72 7.72c-.78.78-.78 2.05 0 2.83L4 21.41c.39.39.9.59 1.41.59.51 0 1.02-.2 1.41-.59l7.78-7.78 2.81-2.81c.8-.78.8-2.07 0-2.86zM5.41 20L4 18.59l7.72-7.72 1.47 1.35L5.41 20z\"/>\n",
              "  </svg>\n",
              "      </button>\n",
              "      \n",
              "  <style>\n",
              "    .colab-df-container {\n",
              "      display:flex;\n",
              "      flex-wrap:wrap;\n",
              "      gap: 12px;\n",
              "    }\n",
              "\n",
              "    .colab-df-convert {\n",
              "      background-color: #E8F0FE;\n",
              "      border: none;\n",
              "      border-radius: 50%;\n",
              "      cursor: pointer;\n",
              "      display: none;\n",
              "      fill: #1967D2;\n",
              "      height: 32px;\n",
              "      padding: 0 0 0 0;\n",
              "      width: 32px;\n",
              "    }\n",
              "\n",
              "    .colab-df-convert:hover {\n",
              "      background-color: #E2EBFA;\n",
              "      box-shadow: 0px 1px 2px rgba(60, 64, 67, 0.3), 0px 1px 3px 1px rgba(60, 64, 67, 0.15);\n",
              "      fill: #174EA6;\n",
              "    }\n",
              "\n",
              "    [theme=dark] .colab-df-convert {\n",
              "      background-color: #3B4455;\n",
              "      fill: #D2E3FC;\n",
              "    }\n",
              "\n",
              "    [theme=dark] .colab-df-convert:hover {\n",
              "      background-color: #434B5C;\n",
              "      box-shadow: 0px 1px 3px 1px rgba(0, 0, 0, 0.15);\n",
              "      filter: drop-shadow(0px 1px 2px rgba(0, 0, 0, 0.3));\n",
              "      fill: #FFFFFF;\n",
              "    }\n",
              "  </style>\n",
              "\n",
              "      <script>\n",
              "        const buttonEl =\n",
              "          document.querySelector('#df-f16106d5-2019-48ed-903c-a42a6e3692fe button.colab-df-convert');\n",
              "        buttonEl.style.display =\n",
              "          google.colab.kernel.accessAllowed ? 'block' : 'none';\n",
              "\n",
              "        async function convertToInteractive(key) {\n",
              "          const element = document.querySelector('#df-f16106d5-2019-48ed-903c-a42a6e3692fe');\n",
              "          const dataTable =\n",
              "            await google.colab.kernel.invokeFunction('convertToInteractive',\n",
              "                                                     [key], {});\n",
              "          if (!dataTable) return;\n",
              "\n",
              "          const docLinkHtml = 'Like what you see? Visit the ' +\n",
              "            '<a target=\"_blank\" href=https://colab.research.google.com/notebooks/data_table.ipynb>data table notebook</a>'\n",
              "            + ' to learn more about interactive tables.';\n",
              "          element.innerHTML = '';\n",
              "          dataTable['output_type'] = 'display_data';\n",
              "          await google.colab.output.renderOutput(dataTable, element);\n",
              "          const docLink = document.createElement('div');\n",
              "          docLink.innerHTML = docLinkHtml;\n",
              "          element.appendChild(docLink);\n",
              "        }\n",
              "      </script>\n",
              "    </div>\n",
              "  </div>\n",
              "  "
            ]
          },
          "metadata": {},
          "execution_count": 533
        }
      ]
    },
    {
      "cell_type": "code",
      "source": [
        "#One Hot Coding:\n",
        "main = pd.get_dummies(main, columns=['FatContent','OutletCity','OutletSize','OutletType','Item_Type_Combined','Outlet'])\n",
        "main.head()"
      ],
      "metadata": {
        "id": "6TVCtAGfo0Rb",
        "colab": {
          "base_uri": "https://localhost:8080/",
          "height": 317
        },
        "outputId": "7a049152-bee4-4cb3-b5c4-a523988e23f3"
      },
      "id": "6TVCtAGfo0Rb",
      "execution_count": null,
      "outputs": [
        {
          "output_type": "execute_result",
          "data": {
            "text/plain": [
              "   Weight  Visibility       MRP      Sales  FatContent_Low Fat  \\\n",
              "0    19.2    0.094450  187.8214  4710.5350                   0   \n",
              "1    11.8    0.000000   45.5402  1516.0266                   1   \n",
              "2    18.5    0.045464  144.1102  2187.1530                   0   \n",
              "3    15.1    0.100014  145.4786  1589.2646                   0   \n",
              "4    17.6    0.047257  119.6782  2145.2076                   0   \n",
              "\n",
              "   FatContent_Non-Edible  FatContent_Regular  OutletCity_Tier 1  \\\n",
              "0                      0                   1                  0   \n",
              "1                      0                   0                  1   \n",
              "2                      0                   1                  1   \n",
              "3                      0                   1                  1   \n",
              "4                      0                   1                  1   \n",
              "\n",
              "   OutletCity_Tier 2  OutletCity_Tier 3  ...  Outlet_OUT_010  Outlet_OUT_013  \\\n",
              "0                  1                  0  ...               0               0   \n",
              "1                  0                  0  ...               0               0   \n",
              "2                  0                  0  ...               0               0   \n",
              "3                  0                  0  ...               0               0   \n",
              "4                  0                  0  ...               0               0   \n",
              "\n",
              "   Outlet_OUT_017  Outlet_OUT_018  Outlet_OUT_019  Outlet_OUT_027  \\\n",
              "0               1               0               0               0   \n",
              "1               0               0               0               0   \n",
              "2               0               0               0               0   \n",
              "3               0               0               0               0   \n",
              "4               0               0               0               0   \n",
              "\n",
              "   Outlet_OUT_035  Outlet_OUT_045  Outlet_OUT_046  Outlet_OUT_049  \n",
              "0               0               0               0               0  \n",
              "1               0               0               0               1  \n",
              "2               0               0               1               0  \n",
              "3               0               0               0               1  \n",
              "4               0               0               1               0  \n",
              "\n",
              "[5 rows x 30 columns]"
            ],
            "text/html": [
              "\n",
              "  <div id=\"df-c8b17030-f986-4af9-8deb-77ca2eddbc03\">\n",
              "    <div class=\"colab-df-container\">\n",
              "      <div>\n",
              "<style scoped>\n",
              "    .dataframe tbody tr th:only-of-type {\n",
              "        vertical-align: middle;\n",
              "    }\n",
              "\n",
              "    .dataframe tbody tr th {\n",
              "        vertical-align: top;\n",
              "    }\n",
              "\n",
              "    .dataframe thead th {\n",
              "        text-align: right;\n",
              "    }\n",
              "</style>\n",
              "<table border=\"1\" class=\"dataframe\">\n",
              "  <thead>\n",
              "    <tr style=\"text-align: right;\">\n",
              "      <th></th>\n",
              "      <th>Weight</th>\n",
              "      <th>Visibility</th>\n",
              "      <th>MRP</th>\n",
              "      <th>Sales</th>\n",
              "      <th>FatContent_Low Fat</th>\n",
              "      <th>FatContent_Non-Edible</th>\n",
              "      <th>FatContent_Regular</th>\n",
              "      <th>OutletCity_Tier 1</th>\n",
              "      <th>OutletCity_Tier 2</th>\n",
              "      <th>OutletCity_Tier 3</th>\n",
              "      <th>...</th>\n",
              "      <th>Outlet_OUT_010</th>\n",
              "      <th>Outlet_OUT_013</th>\n",
              "      <th>Outlet_OUT_017</th>\n",
              "      <th>Outlet_OUT_018</th>\n",
              "      <th>Outlet_OUT_019</th>\n",
              "      <th>Outlet_OUT_027</th>\n",
              "      <th>Outlet_OUT_035</th>\n",
              "      <th>Outlet_OUT_045</th>\n",
              "      <th>Outlet_OUT_046</th>\n",
              "      <th>Outlet_OUT_049</th>\n",
              "    </tr>\n",
              "  </thead>\n",
              "  <tbody>\n",
              "    <tr>\n",
              "      <th>0</th>\n",
              "      <td>19.2</td>\n",
              "      <td>0.094450</td>\n",
              "      <td>187.8214</td>\n",
              "      <td>4710.5350</td>\n",
              "      <td>0</td>\n",
              "      <td>0</td>\n",
              "      <td>1</td>\n",
              "      <td>0</td>\n",
              "      <td>1</td>\n",
              "      <td>0</td>\n",
              "      <td>...</td>\n",
              "      <td>0</td>\n",
              "      <td>0</td>\n",
              "      <td>1</td>\n",
              "      <td>0</td>\n",
              "      <td>0</td>\n",
              "      <td>0</td>\n",
              "      <td>0</td>\n",
              "      <td>0</td>\n",
              "      <td>0</td>\n",
              "      <td>0</td>\n",
              "    </tr>\n",
              "    <tr>\n",
              "      <th>1</th>\n",
              "      <td>11.8</td>\n",
              "      <td>0.000000</td>\n",
              "      <td>45.5402</td>\n",
              "      <td>1516.0266</td>\n",
              "      <td>1</td>\n",
              "      <td>0</td>\n",
              "      <td>0</td>\n",
              "      <td>1</td>\n",
              "      <td>0</td>\n",
              "      <td>0</td>\n",
              "      <td>...</td>\n",
              "      <td>0</td>\n",
              "      <td>0</td>\n",
              "      <td>0</td>\n",
              "      <td>0</td>\n",
              "      <td>0</td>\n",
              "      <td>0</td>\n",
              "      <td>0</td>\n",
              "      <td>0</td>\n",
              "      <td>0</td>\n",
              "      <td>1</td>\n",
              "    </tr>\n",
              "    <tr>\n",
              "      <th>2</th>\n",
              "      <td>18.5</td>\n",
              "      <td>0.045464</td>\n",
              "      <td>144.1102</td>\n",
              "      <td>2187.1530</td>\n",
              "      <td>0</td>\n",
              "      <td>0</td>\n",
              "      <td>1</td>\n",
              "      <td>1</td>\n",
              "      <td>0</td>\n",
              "      <td>0</td>\n",
              "      <td>...</td>\n",
              "      <td>0</td>\n",
              "      <td>0</td>\n",
              "      <td>0</td>\n",
              "      <td>0</td>\n",
              "      <td>0</td>\n",
              "      <td>0</td>\n",
              "      <td>0</td>\n",
              "      <td>0</td>\n",
              "      <td>1</td>\n",
              "      <td>0</td>\n",
              "    </tr>\n",
              "    <tr>\n",
              "      <th>3</th>\n",
              "      <td>15.1</td>\n",
              "      <td>0.100014</td>\n",
              "      <td>145.4786</td>\n",
              "      <td>1589.2646</td>\n",
              "      <td>0</td>\n",
              "      <td>0</td>\n",
              "      <td>1</td>\n",
              "      <td>1</td>\n",
              "      <td>0</td>\n",
              "      <td>0</td>\n",
              "      <td>...</td>\n",
              "      <td>0</td>\n",
              "      <td>0</td>\n",
              "      <td>0</td>\n",
              "      <td>0</td>\n",
              "      <td>0</td>\n",
              "      <td>0</td>\n",
              "      <td>0</td>\n",
              "      <td>0</td>\n",
              "      <td>0</td>\n",
              "      <td>1</td>\n",
              "    </tr>\n",
              "    <tr>\n",
              "      <th>4</th>\n",
              "      <td>17.6</td>\n",
              "      <td>0.047257</td>\n",
              "      <td>119.6782</td>\n",
              "      <td>2145.2076</td>\n",
              "      <td>0</td>\n",
              "      <td>0</td>\n",
              "      <td>1</td>\n",
              "      <td>1</td>\n",
              "      <td>0</td>\n",
              "      <td>0</td>\n",
              "      <td>...</td>\n",
              "      <td>0</td>\n",
              "      <td>0</td>\n",
              "      <td>0</td>\n",
              "      <td>0</td>\n",
              "      <td>0</td>\n",
              "      <td>0</td>\n",
              "      <td>0</td>\n",
              "      <td>0</td>\n",
              "      <td>1</td>\n",
              "      <td>0</td>\n",
              "    </tr>\n",
              "  </tbody>\n",
              "</table>\n",
              "<p>5 rows × 30 columns</p>\n",
              "</div>\n",
              "      <button class=\"colab-df-convert\" onclick=\"convertToInteractive('df-c8b17030-f986-4af9-8deb-77ca2eddbc03')\"\n",
              "              title=\"Convert this dataframe to an interactive table.\"\n",
              "              style=\"display:none;\">\n",
              "        \n",
              "  <svg xmlns=\"http://www.w3.org/2000/svg\" height=\"24px\"viewBox=\"0 0 24 24\"\n",
              "       width=\"24px\">\n",
              "    <path d=\"M0 0h24v24H0V0z\" fill=\"none\"/>\n",
              "    <path d=\"M18.56 5.44l.94 2.06.94-2.06 2.06-.94-2.06-.94-.94-2.06-.94 2.06-2.06.94zm-11 1L8.5 8.5l.94-2.06 2.06-.94-2.06-.94L8.5 2.5l-.94 2.06-2.06.94zm10 10l.94 2.06.94-2.06 2.06-.94-2.06-.94-.94-2.06-.94 2.06-2.06.94z\"/><path d=\"M17.41 7.96l-1.37-1.37c-.4-.4-.92-.59-1.43-.59-.52 0-1.04.2-1.43.59L10.3 9.45l-7.72 7.72c-.78.78-.78 2.05 0 2.83L4 21.41c.39.39.9.59 1.41.59.51 0 1.02-.2 1.41-.59l7.78-7.78 2.81-2.81c.8-.78.8-2.07 0-2.86zM5.41 20L4 18.59l7.72-7.72 1.47 1.35L5.41 20z\"/>\n",
              "  </svg>\n",
              "      </button>\n",
              "      \n",
              "  <style>\n",
              "    .colab-df-container {\n",
              "      display:flex;\n",
              "      flex-wrap:wrap;\n",
              "      gap: 12px;\n",
              "    }\n",
              "\n",
              "    .colab-df-convert {\n",
              "      background-color: #E8F0FE;\n",
              "      border: none;\n",
              "      border-radius: 50%;\n",
              "      cursor: pointer;\n",
              "      display: none;\n",
              "      fill: #1967D2;\n",
              "      height: 32px;\n",
              "      padding: 0 0 0 0;\n",
              "      width: 32px;\n",
              "    }\n",
              "\n",
              "    .colab-df-convert:hover {\n",
              "      background-color: #E2EBFA;\n",
              "      box-shadow: 0px 1px 2px rgba(60, 64, 67, 0.3), 0px 1px 3px 1px rgba(60, 64, 67, 0.15);\n",
              "      fill: #174EA6;\n",
              "    }\n",
              "\n",
              "    [theme=dark] .colab-df-convert {\n",
              "      background-color: #3B4455;\n",
              "      fill: #D2E3FC;\n",
              "    }\n",
              "\n",
              "    [theme=dark] .colab-df-convert:hover {\n",
              "      background-color: #434B5C;\n",
              "      box-shadow: 0px 1px 3px 1px rgba(0, 0, 0, 0.15);\n",
              "      filter: drop-shadow(0px 1px 2px rgba(0, 0, 0, 0.3));\n",
              "      fill: #FFFFFF;\n",
              "    }\n",
              "  </style>\n",
              "\n",
              "      <script>\n",
              "        const buttonEl =\n",
              "          document.querySelector('#df-c8b17030-f986-4af9-8deb-77ca2eddbc03 button.colab-df-convert');\n",
              "        buttonEl.style.display =\n",
              "          google.colab.kernel.accessAllowed ? 'block' : 'none';\n",
              "\n",
              "        async function convertToInteractive(key) {\n",
              "          const element = document.querySelector('#df-c8b17030-f986-4af9-8deb-77ca2eddbc03');\n",
              "          const dataTable =\n",
              "            await google.colab.kernel.invokeFunction('convertToInteractive',\n",
              "                                                     [key], {});\n",
              "          if (!dataTable) return;\n",
              "\n",
              "          const docLinkHtml = 'Like what you see? Visit the ' +\n",
              "            '<a target=\"_blank\" href=https://colab.research.google.com/notebooks/data_table.ipynb>data table notebook</a>'\n",
              "            + ' to learn more about interactive tables.';\n",
              "          element.innerHTML = '';\n",
              "          dataTable['output_type'] = 'display_data';\n",
              "          await google.colab.output.renderOutput(dataTable, element);\n",
              "          const docLink = document.createElement('div');\n",
              "          docLink.innerHTML = docLinkHtml;\n",
              "          element.appendChild(docLink);\n",
              "        }\n",
              "      </script>\n",
              "    </div>\n",
              "  </div>\n",
              "  "
            ]
          },
          "metadata": {},
          "execution_count": 534
        }
      ]
    },
    {
      "cell_type": "code",
      "execution_count": null,
      "id": "a365a8f4",
      "metadata": {
        "colab": {
          "base_uri": "https://localhost:8080/"
        },
        "id": "a365a8f4",
        "outputId": "e7ad92c2-5f6d-4b46-8111-28879c1d22ad"
      },
      "outputs": [
        {
          "output_type": "execute_result",
          "data": {
            "text/plain": [
              "array([[ 1.48221216,  0.54884531,  0.75200828,  1.51090416],\n",
              "       [-0.38986317, -1.28175775, -1.53284753, -0.23974956],\n",
              "       [ 0.00343653, -0.400588  ,  0.05006178,  1.34530178],\n",
              "       ...,\n",
              "       [-0.57909963, -0.59978449, -0.89720755, -0.52363935],\n",
              "       [-0.19672492,  1.53287976, -0.60797692, -1.32562802],\n",
              "       [-0.82959407, -0.41193591, -1.05226104,  0.46997492]])"
            ]
          },
          "metadata": {},
          "execution_count": 535
        }
      ],
      "source": [
        "scaler = StandardScaler().fit(main[[ 'Sales', 'Visibility', 'MRP','Weight']])\n",
        "main_norm=scaler.transform(main[['Sales', 'Visibility', 'MRP','Weight']])\n",
        "main_norm"
      ]
    },
    {
      "cell_type": "code",
      "execution_count": null,
      "id": "93da0c0b",
      "metadata": {
        "id": "93da0c0b"
      },
      "outputs": [],
      "source": [
        "main_norm_df=pd. DataFrame(main_norm, columns=['Sales', 'Visibility', 'MRP','Weight'])\n",
        "main_norm_df=main_norm_df.join(main[main.columns.drop(['Sales', 'Visibility', 'MRP','Weight'])])"
      ]
    },
    {
      "cell_type": "code",
      "execution_count": null,
      "id": "31f2268a",
      "metadata": {
        "colab": {
          "base_uri": "https://localhost:8080/"
        },
        "id": "31f2268a",
        "outputId": "27ab2c25-f9d8-4498-f87b-7716b9d2bc25"
      },
      "outputs": [
        {
          "output_type": "execute_result",
          "data": {
            "text/plain": [
              "(8523, 29)"
            ]
          },
          "metadata": {},
          "execution_count": 537
        }
      ],
      "source": [
        "Y = main_norm_df['Sales']\n",
        "X = main_norm_df[main_norm_df.columns.drop(['Sales'])]\n",
        "X.shape"
      ]
    },
    {
      "cell_type": "code",
      "execution_count": null,
      "id": "b07028a7",
      "metadata": {
        "colab": {
          "base_uri": "https://localhost:8080/"
        },
        "id": "b07028a7",
        "outputId": "19cff024-f7b9-4f03-9ca3-c92ea85860cd"
      },
      "outputs": [
        {
          "output_type": "execute_result",
          "data": {
            "text/plain": [
              "((6392, 29), (2131, 29))"
            ]
          },
          "metadata": {},
          "execution_count": 538
        }
      ],
      "source": [
        "X_train,X_test,Y_train,Y_test = train_test_split(X,Y,test_size=0.25, random_state=100)\n",
        "X_train.shape , X_test.shape"
      ]
    },
    {
      "cell_type": "code",
      "execution_count": null,
      "id": "f47b0521",
      "metadata": {
        "colab": {
          "base_uri": "https://localhost:8080/"
        },
        "id": "f47b0521",
        "outputId": "953a9fa4-22b4-4dba-8974-395da77f5f2f"
      },
      "outputs": [
        {
          "output_type": "execute_result",
          "data": {
            "text/plain": [
              "LinearRegression()"
            ]
          },
          "metadata": {},
          "execution_count": 567
        }
      ],
      "source": [
        "model = LinearRegression()\n",
        "model.fit(X_train,Y_train)"
      ]
    },
    {
      "cell_type": "code",
      "source": [
        "features= X.columns\n",
        "coef = pd.Series(model.coef_,features).sort_values()\n",
        "coef"
      ],
      "metadata": {
        "colab": {
          "base_uri": "https://localhost:8080/"
        },
        "id": "Wke5orcHgCT_",
        "outputId": "aa8e310e-45a9-4661-fd47-6c53f622a00b"
      },
      "id": "Wke5orcHgCT_",
      "execution_count": null,
      "outputs": [
        {
          "output_type": "execute_result",
          "data": {
            "text/plain": [
              "OutletType_Grocery Store            -0.613930\n",
              "Outlet_OUT_010                      -0.395914\n",
              "Outlet_OUT_019                      -0.218016\n",
              "Outlet_OUT_045                      -0.081124\n",
              "OutletCity_Tier 1                   -0.051037\n",
              "OutletSize_Small                    -0.035928\n",
              "Outlet_OUT_018                      -0.033784\n",
              "OutletType_Supermarket Type2        -0.033784\n",
              "FatContent_Low Fat                  -0.018262\n",
              "Visibility                          -0.008857\n",
              "FatContent_Non-Edible               -0.007040\n",
              "Item_Type_Combined_Non-Consumable   -0.007040\n",
              "Outlet_OUT_013                      -0.005467\n",
              "OutletSize_High                     -0.005467\n",
              "Item_Type_Combined_Drinks           -0.000807\n",
              "Weight                              -0.000161\n",
              "Outlet_OUT_017                       0.005243\n",
              "Item_Type_Combined_Food              0.007847\n",
              "OutletCity_Tier 2                    0.015519\n",
              "FatContent_Regular                   0.025302\n",
              "OutletCity_Tier 3                    0.035517\n",
              "OutletSize_Medium                    0.041394\n",
              "Outlet_OUT_049                       0.076291\n",
              "Outlet_OUT_046                       0.090688\n",
              "Outlet_OUT_035                       0.091401\n",
              "OutletType_Supermarket Type1         0.177032\n",
              "OutletType_Supermarket Type3         0.470682\n",
              "Outlet_OUT_027                       0.470682\n",
              "MRP                                  0.569176\n",
              "dtype: float64"
            ]
          },
          "metadata": {},
          "execution_count": 569
        }
      ]
    },
    {
      "cell_type": "markdown",
      "source": [
        "Predicting sales for one case"
      ],
      "metadata": {
        "id": "7oSsikSdw1Gv"
      },
      "id": "7oSsikSdw1Gv"
    },
    {
      "cell_type": "code",
      "source": [
        "data = {'Visibility':0.16, 'MRP':6, 'Weight':9, 'FatContent_Low Fat':1,'FatContent_Non-Edible':0, 'FatContent_Regular':0, 'OutletCity_Tier 1':1,\n",
        "       'OutletCity_Tier 2':0, 'OutletCity_Tier 3':0, 'OutletSize_High':0,'OutletSize_Medium':1, 'OutletSize_Small':0, 'OutletType_Grocery Store':0,\n",
        "       'OutletType_Supermarket Type1':0, 'OutletType_Supermarket Type2':0,'OutletType_Supermarket Type3':1, 'Item_Type_Combined_Drinks':0,\n",
        "       'Item_Type_Combined_Food':1, 'Item_Type_Combined_Non-Consumable':0,'Outlet_OUT_010':0, 'Outlet_OUT_013':0, 'Outlet_OUT_017':0, 'Outlet_OUT_018':0,\n",
        "       'Outlet_OUT_019':0, 'Outlet_OUT_027':1, 'Outlet_OUT_035':0, 'Outlet_OUT_045':0,'Outlet_OUT_046':0, 'Outlet_OUT_049':0}\n",
        "n = pd.DataFrame(data,index=[0])\n",
        "model.predict(n)"
      ],
      "metadata": {
        "colab": {
          "base_uri": "https://localhost:8080/"
        },
        "id": "YofbKTUTdsDT",
        "outputId": "d086d54f-5f5f-4485-a75f-ba7633113c18"
      },
      "id": "YofbKTUTdsDT",
      "execution_count": null,
      "outputs": [
        {
          "output_type": "execute_result",
          "data": {
            "text/plain": [
              "array([3.50623926])"
            ]
          },
          "metadata": {},
          "execution_count": 573
        }
      ]
    },
    {
      "cell_type": "markdown",
      "source": [
        "With the below plots we can get the important features of this model."
      ],
      "metadata": {
        "id": "ugKvKMEKqnnx"
      },
      "id": "ugKvKMEKqnnx"
    },
    {
      "cell_type": "code",
      "source": [
        "plt.figure(figsize=(16,10))\n",
        "sns.barplot(model.coef_,features)"
      ],
      "metadata": {
        "colab": {
          "base_uri": "https://localhost:8080/",
          "height": 666
        },
        "id": "GATkVX3yljC4",
        "outputId": "c6467c5e-3651-4b8a-fce8-b8cab8f2bbef"
      },
      "id": "GATkVX3yljC4",
      "execution_count": null,
      "outputs": [
        {
          "output_type": "stream",
          "name": "stderr",
          "text": [
            "/usr/local/lib/python3.7/dist-packages/seaborn/_decorators.py:43: FutureWarning: Pass the following variables as keyword args: x, y. From version 0.12, the only valid positional argument will be `data`, and passing other arguments without an explicit keyword will result in an error or misinterpretation.\n",
            "  FutureWarning\n"
          ]
        },
        {
          "output_type": "execute_result",
          "data": {
            "text/plain": [
              "<matplotlib.axes._subplots.AxesSubplot at 0x7fb2f8d40750>"
            ]
          },
          "metadata": {},
          "execution_count": 571
        },
        {
          "output_type": "display_data",
          "data": {
            "text/plain": [
              "<Figure size 1152x720 with 1 Axes>"
            ],
            "image/png": "[encoded data removed]"
          },
          "metadata": {}
        }
      ]
    },
    {
      "cell_type": "markdown",
      "source": [
        "## Evaluation"
      ],
      "metadata": {
        "id": "59NblVq5Sljf"
      },
      "id": "59NblVq5Sljf"
    },
    {
      "cell_type": "code",
      "execution_count": null,
      "id": "d7f39a88",
      "metadata": {
        "colab": {
          "base_uri": "https://localhost:8080/"
        },
        "id": "d7f39a88",
        "outputId": "962dfc67-d3fb-4432-a6f4-3b4f3a87f659"
      },
      "outputs": [
        {
          "output_type": "execute_result",
          "data": {
            "text/plain": [
              "0.5532811378593504"
            ]
          },
          "metadata": {},
          "execution_count": 568
        }
      ],
      "source": [
        "model.score(X_test,Y_test)"
      ]
    },
    {
      "cell_type": "code",
      "execution_count": null,
      "id": "edb2c9a5",
      "metadata": {
        "colab": {
          "base_uri": "https://localhost:8080/"
        },
        "id": "edb2c9a5",
        "outputId": "25c74764-61db-4fba-c2ce-13afe76154d7"
      },
      "outputs": [
        {
          "output_type": "stream",
          "name": "stdout",
          "text": [
            "Train Score (R-Squared):  0.5665788655876594\n",
            "Test Score (R-Squared) 0.5532811378593504\n"
          ]
        }
      ],
      "source": [
        "train_score=model.score(X_train,Y_train)\n",
        "test_score=model.score(X_test,Y_test)\n",
        "print('Train Score (R-Squared): ',train_score)\n",
        "print('Test Score (R-Squared)',test_score)"
      ]
    },
    {
      "cell_type": "code",
      "execution_count": null,
      "id": "9b8779d5",
      "metadata": {
        "colab": {
          "base_uri": "https://localhost:8080/"
        },
        "id": "9b8779d5",
        "outputId": "838e7dae-b670-42ca-9372-31fd14bc5fc5"
      },
      "outputs": [
        {
          "output_type": "stream",
          "name": "stdout",
          "text": [
            "Train RMSE :  0.6601541706671149\n",
            "Test RMSE :  0.6626999787646956\n"
          ]
        }
      ],
      "source": [
        "train_predictions = model.predict(X_train)\n",
        "train_RMSE=mean_squared_error(Y_train,train_predictions)**0.5\n",
        "test_predictions = model.predict(X_test)\n",
        "test_RMSE=mean_squared_error(Y_test,test_predictions)**0.5\n",
        "print('Train RMSE : ',train_RMSE)\n",
        "print('Test RMSE : ',test_RMSE)"
      ]
    },
    {
      "cell_type": "code",
      "source": [
        ""
      ],
      "metadata": {
        "id": "7buXJrEJl48D"
      },
      "id": "7buXJrEJl48D",
      "execution_count": null,
      "outputs": []
    }
  ],
  "metadata": {
    "kernelspec": {
      "display_name": "Python 3",
      "language": "python",
      "name": "python3"
    },
    "language_info": {
      "codemirror_mode": {
        "name": "ipython",
        "version": 3
      },
      "file_extension": ".py",
      "mimetype": "text/x-python",
      "name": "python",
      "nbconvert_exporter": "python",
      "pygments_lexer": "ipython3",
      "version": "3.8.8"
    },
    "colab": {
      "name": "MegaHut_Data_Analysis.ipynb",
      "provenance": [],
      "collapsed_sections": [
        "1C9diu1dWrIU",
        "qGoehigzW6Pm",
        "951c18ab",
        "8V1-Z1hCWhkB",
        "oFDSs0PWc3ib",
        "59NblVq5Sljf"
      ],
      "include_colab_link": true
    }
  },
  "nbformat": 4,
  "nbformat_minor": 5
}